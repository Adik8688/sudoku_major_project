{
 "cells": [
  {
   "cell_type": "markdown",
   "metadata": {},
   "source": [
    "# Mid semester demo"
   ]
  },
  {
   "cell_type": "markdown",
   "metadata": {},
   "source": [
    "## Setup"
   ]
  },
  {
   "cell_type": "code",
   "execution_count": 1,
   "metadata": {},
   "outputs": [],
   "source": [
    "from src.Sudoku import Sudoku\n",
    "from src.SudokuAnalyzer import SudokuAnalyzer\n",
    "from src.SudokuScrambler import SudokuScrambler\n",
    "from src.SudokuSolver import SudokuSolver\n",
    "\n",
    "grid1 = \"\"\"000801000\n",
    "    000000043\n",
    "    500000000\n",
    "    000070800\n",
    "    000000100\n",
    "    020030000\n",
    "    600000075\n",
    "    003400000\n",
    "    000200600\"\"\"\n",
    "\n",
    "grid2 = \"\"\"000100200\n",
    "    010020000\n",
    "    200000001\n",
    "    000200100\n",
    "    000001020\n",
    "    021000000\n",
    "    000000012\n",
    "    000012000\n",
    "    102000000\"\"\"\n",
    "\n",
    "grid_solved = [\n",
    "        [5, 3, 4, 6, 7, 8, 9, 1, 2],\n",
    "        [6, 7, 2, 1, 9, 5, 3, 4, 8],\n",
    "        [1, 9, 8, 3, 4, 2, 5, 6, 7],\n",
    "        [8, 5, 9, 7, 6, 1, 4, 2, 3],\n",
    "        [4, 2, 6, 8, 5, 3, 7, 9, 1],\n",
    "        [7, 1, 3, 9, 2, 4, 8, 5, 6],\n",
    "        [9, 6, 1, 5, 3, 7, 2, 8, 4],\n",
    "        [2, 8, 7, 4, 1, 9, 6, 3, 5],\n",
    "        [3, 4, 5, 2, 8, 6, 1, 7, 9],\n",
    "    ]"
   ]
  },
  {
   "cell_type": "markdown",
   "metadata": {},
   "source": [
    "## Sudoku"
   ]
  },
  {
   "cell_type": "code",
   "execution_count": 2,
   "metadata": {},
   "outputs": [
    {
     "name": "stdout",
     "output_type": "stream",
     "text": [
      "- - - 8 - 1 - - - \n",
      "- - - - - - - 4 3 \n",
      "5 - - - - - - - - \n",
      "- - - - 7 - 8 - - \n",
      "- - - - - - 1 - - \n",
      "- 2 - - 3 - - - - \n",
      "6 - - - - - - 7 5 \n",
      "- - 3 4 - - - - - \n",
      "- - - 2 - - 6 - - \n",
      "\n"
     ]
    }
   ],
   "source": [
    "sudoku = Sudoku(grid1)\n",
    "print(sudoku)"
   ]
  },
  {
   "cell_type": "code",
   "execution_count": 3,
   "metadata": {},
   "outputs": [
    {
     "name": "stdout",
     "output_type": "stream",
     "text": [
      "4 - - 8 - 1 - - - \n",
      "- - - - - - - 4 3 \n",
      "5 - - - - - - - - \n",
      "- - - - 7 - 8 - - \n",
      "- - - - - - 1 - - \n",
      "- 2 - - 3 - - - - \n",
      "6 - - - - - - 7 5 \n",
      "- - 3 4 - - - - - \n",
      "- - - 2 - - 6 - - \n",
      "\n"
     ]
    }
   ],
   "source": [
    "sudoku.set_cell(0, 0, 4)\n",
    "print(sudoku)"
   ]
  },
  {
   "cell_type": "code",
   "execution_count": 4,
   "metadata": {},
   "outputs": [
    {
     "data": {
      "text/plain": [
       "array([8, 0, 0, 0, 0, 0, 0, 4, 2])"
      ]
     },
     "execution_count": 4,
     "metadata": {},
     "output_type": "execute_result"
    }
   ],
   "source": [
    "sudoku.get_col(3)"
   ]
  },
  {
   "cell_type": "code",
   "execution_count": 5,
   "metadata": {},
   "outputs": [
    {
     "data": {
      "text/plain": [
       "array([[8, 0, 0],\n",
       "       [1, 0, 0],\n",
       "       [0, 0, 0]])"
      ]
     },
     "execution_count": 5,
     "metadata": {},
     "output_type": "execute_result"
    }
   ],
   "source": [
    "sudoku.get_square(5)"
   ]
  },
  {
   "cell_type": "code",
   "execution_count": 6,
   "metadata": {},
   "outputs": [
    {
     "data": {
      "text/plain": [
       "False"
      ]
     },
     "execution_count": 6,
     "metadata": {},
     "output_type": "execute_result"
    }
   ],
   "source": [
    "sudoku.is_solved()"
   ]
  },
  {
   "cell_type": "code",
   "execution_count": 7,
   "metadata": {},
   "outputs": [
    {
     "name": "stdout",
     "output_type": "stream",
     "text": [
      "- - - 8 - 1 - - - \n",
      "- - - - - - - 4 3 \n",
      "5 - - - - - - - - \n",
      "- - - - 7 - 8 - - \n",
      "- - - - - - 1 - - \n",
      "- 2 - - 3 - - - - \n",
      "6 - - - - - - 7 5 \n",
      "- - 3 4 - - - - - \n",
      "- - - 2 - - 6 - - \n",
      "\n"
     ]
    }
   ],
   "source": [
    "sudoku.reset_sudoku()\n",
    "print(sudoku)"
   ]
  },
  {
   "cell_type": "code",
   "execution_count": 8,
   "metadata": {},
   "outputs": [
    {
     "data": {
      "text/plain": [
       "True"
      ]
     },
     "execution_count": 8,
     "metadata": {},
     "output_type": "execute_result"
    }
   ],
   "source": [
    "sudoku1 = Sudoku(grid_solved)\n",
    "sudoku1.is_solved()"
   ]
  },
  {
   "cell_type": "markdown",
   "metadata": {},
   "source": [
    "## SudokuAnalyzer"
   ]
  },
  {
   "cell_type": "code",
   "execution_count": 9,
   "metadata": {},
   "outputs": [
    {
     "name": "stdout",
     "output_type": "stream",
     "text": [
      "Sum of candidates: 301\n",
      "Number of initial values: 17\n",
      "Initial values' entropy: 0.63\n"
     ]
    }
   ],
   "source": [
    "analyzer = SudokuAnalyzer(sudoku)\n",
    "print(analyzer)"
   ]
  },
  {
   "cell_type": "markdown",
   "metadata": {},
   "source": [
    "### Entropy\n"
   ]
  },
  {
   "cell_type": "code",
   "execution_count": 10,
   "metadata": {},
   "outputs": [
    {
     "name": "stdout",
     "output_type": "stream",
     "text": [
      "Sum of candidates: 441\n",
      "Number of initial values: 18\n",
      "Initial values' entropy: 0.22\n"
     ]
    }
   ],
   "source": [
    "sudoku1 = Sudoku(grid2)\n",
    "analyzer = SudokuAnalyzer(sudoku1)\n",
    "print(analyzer)"
   ]
  },
  {
   "cell_type": "markdown",
   "metadata": {},
   "source": [
    "## SudokuScrambler"
   ]
  },
  {
   "cell_type": "markdown",
   "metadata": {},
   "source": [
    "## Methods\n",
    "- permuting rows\n",
    "- permuting cols\n",
    "- permuting blocks\n",
    "- reflection\n",
    "- swapping digits\n",
    "- rotation"
   ]
  },
  {
   "cell_type": "code",
   "execution_count": 11,
   "metadata": {},
   "outputs": [
    {
     "data": {
      "text/plain": [
       "['permutate_cols',\n",
       " 'permutate_rows',\n",
       " 'reflect_grid',\n",
       " 'remove_digit',\n",
       " 'rotate_grid',\n",
       " 'scramble',\n",
       " 'shuffle_order_with_blocks',\n",
       " 'shuffle_order_within_squares',\n",
       " 'sudoku',\n",
       " 'swap_all_digits',\n",
       " 'update_initial_grid']"
      ]
     },
     "execution_count": 11,
     "metadata": {},
     "output_type": "execute_result"
    }
   ],
   "source": [
    "solved_sudoku = Sudoku(grid_solved)\n",
    "scrambler = SudokuScrambler(solved_sudoku)\n",
    "[i for i in dir(scrambler) if not i.startswith(\"__\")]"
   ]
  },
  {
   "cell_type": "code",
   "execution_count": 12,
   "metadata": {},
   "outputs": [
    {
     "data": {
      "text/plain": [
       "[0, 1, 2, 3, 4, 5, 6, 7, 8]"
      ]
     },
     "execution_count": 12,
     "metadata": {},
     "output_type": "execute_result"
    }
   ],
   "source": [
    "scrambler.shuffle_order_with_blocks()"
   ]
  },
  {
   "cell_type": "code",
   "execution_count": 13,
   "metadata": {},
   "outputs": [
    {
     "data": {
      "text/plain": [
       "[1, 0, 2, 4, 5, 3, 8, 6, 7]"
      ]
     },
     "execution_count": 13,
     "metadata": {},
     "output_type": "execute_result"
    }
   ],
   "source": [
    "scrambler.shuffle_order_within_squares()"
   ]
  },
  {
   "cell_type": "code",
   "execution_count": 14,
   "metadata": {},
   "outputs": [
    {
     "name": "stdout",
     "output_type": "stream",
     "text": [
      "5 3 4 6 7 8 9 1 2 \n",
      "6 7 2 1 9 5 3 4 8 \n",
      "1 9 8 3 4 2 5 6 7 \n",
      "8 5 9 7 6 1 4 2 3 \n",
      "4 2 6 8 5 3 7 9 1 \n",
      "7 1 3 9 2 4 8 5 6 \n",
      "9 6 1 5 3 7 2 8 4 \n",
      "2 8 7 4 1 9 6 3 5 \n",
      "3 4 5 2 8 6 1 7 9 \n",
      "\n"
     ]
    }
   ],
   "source": [
    "print(solved_sudoku)"
   ]
  },
  {
   "cell_type": "code",
   "execution_count": 15,
   "metadata": {},
   "outputs": [],
   "source": [
    "scrambler.swap_all_digits(8, 1)"
   ]
  },
  {
   "cell_type": "code",
   "execution_count": 16,
   "metadata": {},
   "outputs": [
    {
     "name": "stdout",
     "output_type": "stream",
     "text": [
      "5 3 4 6 7 1 9 8 2 \n",
      "6 7 2 8 9 5 3 4 1 \n",
      "8 9 1 3 4 2 5 6 7 \n",
      "1 5 9 7 6 8 4 2 3 \n",
      "4 2 6 1 5 3 7 9 8 \n",
      "7 8 3 9 2 4 1 5 6 \n",
      "9 6 8 5 3 7 2 1 4 \n",
      "2 1 7 4 8 9 6 3 5 \n",
      "3 4 5 2 1 6 8 7 9 \n",
      "\n"
     ]
    }
   ],
   "source": [
    "print(solved_sudoku)"
   ]
  },
  {
   "cell_type": "code",
   "execution_count": 17,
   "metadata": {},
   "outputs": [],
   "source": [
    "digits_to_be_removed = [0, 1, 3, 45, 56, 58, 68, 72, 75, 76]\n",
    "for d in digits_to_be_removed:  \n",
    "    scrambler.remove_digit(d)"
   ]
  },
  {
   "cell_type": "code",
   "execution_count": 18,
   "metadata": {},
   "outputs": [
    {
     "name": "stdout",
     "output_type": "stream",
     "text": [
      "- - 4 - 7 1 9 8 2 \n",
      "6 7 2 8 9 5 3 4 1 \n",
      "8 9 1 3 4 2 5 6 7 \n",
      "1 5 9 7 6 8 4 2 3 \n",
      "4 2 6 1 5 3 7 9 8 \n",
      "- 8 3 9 2 4 1 5 6 \n",
      "9 6 - 5 - 7 2 1 4 \n",
      "2 1 7 4 8 - 6 3 5 \n",
      "- 4 5 - - 6 8 7 9 \n",
      "\n"
     ]
    }
   ],
   "source": [
    "print(solved_sudoku)"
   ]
  },
  {
   "cell_type": "code",
   "execution_count": 19,
   "metadata": {},
   "outputs": [],
   "source": [
    "scrambler.scramble()"
   ]
  },
  {
   "cell_type": "code",
   "execution_count": 20,
   "metadata": {},
   "outputs": [
    {
     "name": "stdout",
     "output_type": "stream",
     "text": [
      "3 5 2 - 7 8 6 1 4 \n",
      "- - 8 1 4 5 - 7 2 \n",
      "- 7 4 3 2 6 8 9 5 \n",
      "5 2 - 6 3 1 4 8 7 \n",
      "8 1 - 4 5 9 2 6 3 \n",
      "- 3 - 7 - 2 1 - - \n",
      "2 - 1 - 6 4 - 3 8 \n",
      "- 4 3 - 9 7 - - - \n",
      "7 - 5 2 1 - 9 4 - \n",
      "\n"
     ]
    }
   ],
   "source": [
    "print(solved_sudoku)"
   ]
  },
  {
   "cell_type": "markdown",
   "metadata": {},
   "source": [
    "## SudokuSolver"
   ]
  },
  {
   "cell_type": "code",
   "execution_count": 21,
   "metadata": {},
   "outputs": [
    {
     "ename": "FileNotFoundError",
     "evalue": "[Errno 2] No such file or directory: ''",
     "output_type": "error",
     "traceback": [
      "\u001b[1;31m---------------------------------------------------------------------------\u001b[0m",
      "\u001b[1;31mFileNotFoundError\u001b[0m                         Traceback (most recent call last)",
      "Cell \u001b[1;32mIn[21], line 1\u001b[0m\n\u001b[1;32m----> 1\u001b[0m solver \u001b[38;5;241m=\u001b[39m \u001b[43mSudokuSolver\u001b[49m\u001b[43m(\u001b[49m\u001b[43msudoku\u001b[49m\u001b[43m)\u001b[49m\n\u001b[0;32m      2\u001b[0m [i \u001b[38;5;28;01mfor\u001b[39;00m i \u001b[38;5;129;01min\u001b[39;00m \u001b[38;5;28mdir\u001b[39m(solver) \u001b[38;5;28;01mif\u001b[39;00m \u001b[38;5;129;01mnot\u001b[39;00m i\u001b[38;5;241m.\u001b[39mstartswith(\u001b[38;5;124m\"\u001b[39m\u001b[38;5;124m__\u001b[39m\u001b[38;5;124m\"\u001b[39m)]\n",
      "File \u001b[1;32me:\\Major Proj\\major\\src\\SudokuSolver.py:15\u001b[0m, in \u001b[0;36mSudokuSolver.__init__\u001b[1;34m(self, sudoku, debug_file)\u001b[0m\n\u001b[0;32m     12\u001b[0m \u001b[38;5;28mself\u001b[39m\u001b[38;5;241m.\u001b[39mnumber_of_steps \u001b[38;5;241m=\u001b[39m \u001b[38;5;241m0\u001b[39m\n\u001b[0;32m     13\u001b[0m \u001b[38;5;28mself\u001b[39m\u001b[38;5;241m.\u001b[39mdebug_file \u001b[38;5;241m=\u001b[39m debug_file\n\u001b[1;32m---> 15\u001b[0m \u001b[38;5;28;01mwith\u001b[39;00m \u001b[38;5;28;43mopen\u001b[39;49m\u001b[43m(\u001b[49m\u001b[43mdebug_file\u001b[49m\u001b[43m,\u001b[49m\u001b[43m \u001b[49m\u001b[38;5;124;43m'\u001b[39;49m\u001b[38;5;124;43ma\u001b[39;49m\u001b[38;5;124;43m'\u001b[39;49m\u001b[43m)\u001b[49m \u001b[38;5;28;01mas\u001b[39;00m f:\n\u001b[0;32m     16\u001b[0m     f\u001b[38;5;241m.\u001b[39mwrite(sudoku\u001b[38;5;241m.\u001b[39m\u001b[38;5;21m__str__\u001b[39m())\n\u001b[0;32m     17\u001b[0m     f\u001b[38;5;241m.\u001b[39mwrite(\u001b[38;5;124m\"\u001b[39m\u001b[38;5;130;01m\\n\u001b[39;00m\u001b[38;5;124m\"\u001b[39m)\n",
      "\u001b[1;31mFileNotFoundError\u001b[0m: [Errno 2] No such file or directory: ''"
     ]
    }
   ],
   "source": [
    "solver = SudokuSolver(sudoku)\n",
    "[i for i in dir(solver) if not i.startswith(\"__\")]"
   ]
  },
  {
   "cell_type": "code",
   "execution_count": null,
   "metadata": {},
   "outputs": [
    {
     "name": "stdout",
     "output_type": "stream",
     "text": [
      "0 0 0 \u001b[91m8\u001b[0m 0 \u001b[91m1\u001b[0m 0 0 0 \n",
      "0 0 0 0 0 0 0 \u001b[91m4\u001b[0m \u001b[91m3\u001b[0m \n",
      "\u001b[91m5\u001b[0m 0 0 0 0 0 0 0 0 \n",
      "0 0 0 0 \u001b[91m7\u001b[0m 0 \u001b[91m8\u001b[0m 0 0 \n",
      "0 0 0 0 0 0 \u001b[91m1\u001b[0m 0 0 \n",
      "0 \u001b[91m2\u001b[0m 0 0 \u001b[91m3\u001b[0m 0 0 0 0 \n",
      "\u001b[91m6\u001b[0m 0 0 0 0 0 0 \u001b[91m7\u001b[0m \u001b[91m5\u001b[0m \n",
      "0 0 \u001b[91m3\u001b[0m \u001b[91m4\u001b[0m 0 0 0 0 0 \n",
      "0 0 0 \u001b[91m2\u001b[0m 0 0 \u001b[91m6\u001b[0m 0 0 \n",
      "\n"
     ]
    }
   ],
   "source": [
    "print(sudoku)"
   ]
  },
  {
   "cell_type": "code",
   "execution_count": null,
   "metadata": {},
   "outputs": [],
   "source": [
    "solved_sudoku = solver.solve()"
   ]
  },
  {
   "cell_type": "code",
   "execution_count": null,
   "metadata": {},
   "outputs": [
    {
     "name": "stdout",
     "output_type": "stream",
     "text": [
      "2 3 7 \u001b[91m8\u001b[0m 4 \u001b[91m1\u001b[0m 5 6 9 \n",
      "1 8 6 7 9 5 2 \u001b[91m4\u001b[0m \u001b[91m3\u001b[0m \n",
      "\u001b[91m5\u001b[0m 9 4 3 2 6 7 1 8 \n",
      "3 1 5 6 \u001b[91m7\u001b[0m 4 \u001b[91m8\u001b[0m 9 2 \n",
      "4 6 9 5 8 2 \u001b[91m1\u001b[0m 3 7 \n",
      "7 \u001b[91m2\u001b[0m 8 1 \u001b[91m3\u001b[0m 9 4 5 6 \n",
      "\u001b[91m6\u001b[0m 4 2 9 1 8 3 \u001b[91m7\u001b[0m \u001b[91m5\u001b[0m \n",
      "8 5 \u001b[91m3\u001b[0m \u001b[91m4\u001b[0m 6 7 9 2 1 \n",
      "9 7 1 \u001b[91m2\u001b[0m 5 3 \u001b[91m6\u001b[0m 8 4 \n",
      "\n"
     ]
    }
   ],
   "source": [
    "print(solved_sudoku)"
   ]
  },
  {
   "cell_type": "code",
   "execution_count": null,
   "metadata": {},
   "outputs": [],
   "source": []
  }
 ],
 "metadata": {
  "kernelspec": {
   "display_name": "Python 3",
   "language": "python",
   "name": "python3"
  },
  "language_info": {
   "codemirror_mode": {
    "name": "ipython",
    "version": 3
   },
   "file_extension": ".py",
   "mimetype": "text/x-python",
   "name": "python",
   "nbconvert_exporter": "python",
   "pygments_lexer": "ipython3",
   "version": "3.11.4"
  }
 },
 "nbformat": 4,
 "nbformat_minor": 2
}
