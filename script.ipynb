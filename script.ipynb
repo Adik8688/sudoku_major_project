{
 "cells": [
  {
   "cell_type": "markdown",
   "metadata": {},
   "source": [
    "# Playground"
   ]
  },
  {
   "cell_type": "markdown",
   "metadata": {},
   "source": [
    "# Numba"
   ]
  },
  {
   "cell_type": "code",
   "execution_count": null,
   "metadata": {},
   "outputs": [],
   "source": [
    "from src.Sudoku import Sudoku\n",
    "import numpy as np\n",
    "\n",
    "\n",
    "grid1 = \"\"\"000801000\n",
    "    000000043\n",
    "    500000000\n",
    "    000070800\n",
    "    000000100\n",
    "    020030000\n",
    "    600000075\n",
    "    003400000\n",
    "    000200600\"\"\"\n",
    "\n",
    "sudoku = Sudoku(grid1)\n"
   ]
  },
  {
   "cell_type": "code",
   "execution_count": null,
   "metadata": {},
   "outputs": [],
   "source": [
    "from numba import jit, prange\n",
    "\n",
    "def calculate_candidates(sudoku):\n",
    "\n",
    "    candidates = np.zeros([9, 9]) \n",
    "\n",
    "    for y in range(9):\n",
    "        for x in range(9):\n",
    "            if sudoku.get_cell(x, y) != 0:\n",
    "                candidates[y][x] = 0\n",
    "                continue\n",
    "\n",
    "            row = sudoku.get_row(y)\n",
    "            col = sudoku.get_col(x)\n",
    "            sq_index = x // 3 + 3 * (y // 3)\n",
    "            sq = sudoku.get_square(sq_index)\n",
    "            invalid_numbers = np.concatenate((row, col, sq.flatten()))\n",
    "            valid_numbers = np.setdiff1d(np.arange(1, 10), invalid_numbers)\n",
    "            candidates[y][x] = len(valid_numbers)\n",
    "\n",
    "    return candidates\n",
    "\n",
    "\n",
    "@jit(nopython=True)\n",
    "def custom_setdiff1d(ar1, ar2):\n",
    "    # Create an empty list to hold the result\n",
    "    result = []\n",
    "    \n",
    "    # Convert ar2 to a set for faster lookup\n",
    "    ar2_set = set(ar2)\n",
    "    \n",
    "    # Add elements to result that are in ar1 but not in ar2\n",
    "    for item in ar1:\n",
    "        if item not in ar2_set:\n",
    "            result.append(item)\n",
    "    \n",
    "    return np.array(result)\n",
    "\n",
    "@jit(nopython=True, parallel=True)\n",
    "def calculate_candidates_2(grid: np.array):\n",
    "\n",
    "    candidates = np.zeros((9, 9, 9), dtype=np.bool_)\n",
    "\n",
    "    for y in prange(9):\n",
    "        for x in prange(9):\n",
    "            if grid[y, x] != 0:\n",
    "                continue\n",
    "\n",
    "            row = grid[y, :]\n",
    "            col = grid[:, x]\n",
    "            y0 = (y // 3) * 3\n",
    "            x0 = (x // 3) * 3\n",
    "            sq = grid[y0 : y0 + 3, x0 : x0 + 3]\n",
    "            invalid_numbers = np.concatenate((row, col, sq.flatten()))\n",
    "            valid_numbers = custom_setdiff1d(np.arange(1, 10), invalid_numbers)\n",
    "            candidates[y, x, valid_numbers - 1] = 1\n",
    "\n",
    "    return candidates\n"
   ]
  },
  {
   "cell_type": "code",
   "execution_count": null,
   "metadata": {},
   "outputs": [
    {
     "name": "stdout",
     "output_type": "stream",
     "text": [
      "Time: 54.25662636756897\n"
     ]
    }
   ],
   "source": [
    "import time\n",
    "\n",
    "start_time = time.time()\n",
    "\n",
    "for _ in range(1000000):\n",
    "    c = calculate_candidates_2(sudoku.grid)\n",
    "\n",
    "end_time = time.time()\n",
    "\n",
    "print(f\"Time: {end_time - start_time}\")\n"
   ]
  },
  {
   "cell_type": "code",
   "execution_count": null,
   "metadata": {},
   "outputs": [],
   "source": [
    "def decode_candidates(c):\n",
    "    candidates = []\n",
    "    for row in c:\n",
    "        new_row = []\n",
    "        for elem in row:\n",
    "            new_row.append([i + 1 for i, e in enumerate(elem) if e])\n",
    "        candidates.append(new_row)\n",
    "    \n",
    "    return candidates\n",
    "\n",
    "            "
   ]
  },
  {
   "cell_type": "code",
   "execution_count": null,
   "metadata": {},
   "outputs": [
    {
     "name": "stdout",
     "output_type": "stream",
     "text": [
      "- - - 8 - 1 - - -\n",
      "- - - - - - - 4 3\n",
      "5 - - - - - - - -\n",
      "- - - - 7 - 8 - -\n",
      "- - - - - - 1 - -\n",
      "- 2 - - 3 - - - -\n",
      "6 - - - - - - 7 5\n",
      "- - 3 4 - - - - -\n",
      "- - - 2 - - 6 - -\n",
      "\n"
     ]
    }
   ],
   "source": [
    "print(sudoku)"
   ]
  },
  {
   "cell_type": "code",
   "execution_count": null,
   "metadata": {},
   "outputs": [
    {
     "data": {
      "text/plain": [
       "[[[2, 3, 4, 7, 9],\n",
       "  [3, 4, 6, 7, 9],\n",
       "  [2, 4, 6, 7, 9],\n",
       "  [],\n",
       "  [2, 4, 5, 6, 9],\n",
       "  [],\n",
       "  [2, 5, 7, 9],\n",
       "  [2, 5, 6, 9],\n",
       "  [2, 6, 7, 9]],\n",
       " [[1, 2, 7, 8, 9],\n",
       "  [1, 6, 7, 8, 9],\n",
       "  [1, 2, 6, 7, 8, 9],\n",
       "  [5, 6, 7, 9],\n",
       "  [2, 5, 6, 9],\n",
       "  [2, 5, 6, 7, 9],\n",
       "  [2, 5, 7, 9],\n",
       "  [],\n",
       "  []],\n",
       " [[],\n",
       "  [1, 3, 4, 6, 7, 8, 9],\n",
       "  [1, 2, 4, 6, 7, 8, 9],\n",
       "  [3, 6, 7, 9],\n",
       "  [2, 4, 6, 9],\n",
       "  [2, 3, 4, 6, 7, 9],\n",
       "  [2, 7, 9],\n",
       "  [1, 2, 6, 8, 9],\n",
       "  [1, 2, 6, 7, 8, 9]],\n",
       " [[1, 3, 4, 9],\n",
       "  [1, 3, 4, 5, 6, 9],\n",
       "  [1, 4, 5, 6, 9],\n",
       "  [1, 5, 6, 9],\n",
       "  [],\n",
       "  [2, 4, 5, 6, 9],\n",
       "  [],\n",
       "  [2, 3, 5, 6, 9],\n",
       "  [2, 4, 6, 9]],\n",
       " [[3, 4, 7, 8, 9],\n",
       "  [3, 4, 5, 6, 7, 8, 9],\n",
       "  [4, 5, 6, 7, 8, 9],\n",
       "  [5, 6, 9],\n",
       "  [2, 4, 5, 6, 8, 9],\n",
       "  [2, 4, 5, 6, 8, 9],\n",
       "  [],\n",
       "  [2, 3, 5, 6, 9],\n",
       "  [2, 4, 6, 7, 9]],\n",
       " [[1, 4, 7, 8, 9],\n",
       "  [],\n",
       "  [1, 4, 5, 6, 7, 8, 9],\n",
       "  [1, 5, 6, 9],\n",
       "  [],\n",
       "  [4, 5, 6, 8, 9],\n",
       "  [4, 5, 7, 9],\n",
       "  [5, 6, 9],\n",
       "  [4, 6, 7, 9]],\n",
       " [[],\n",
       "  [1, 4, 8, 9],\n",
       "  [1, 2, 4, 8, 9],\n",
       "  [1, 3, 9],\n",
       "  [1, 8, 9],\n",
       "  [3, 8, 9],\n",
       "  [2, 3, 4, 9],\n",
       "  [],\n",
       "  []],\n",
       " [[1, 2, 7, 8, 9],\n",
       "  [1, 5, 7, 8, 9],\n",
       "  [],\n",
       "  [],\n",
       "  [1, 5, 6, 8, 9],\n",
       "  [5, 6, 7, 8, 9],\n",
       "  [2, 9],\n",
       "  [1, 2, 8, 9],\n",
       "  [1, 2, 8, 9]],\n",
       " [[1, 4, 7, 8, 9],\n",
       "  [1, 4, 5, 7, 8, 9],\n",
       "  [1, 4, 5, 7, 8, 9],\n",
       "  [],\n",
       "  [1, 5, 8, 9],\n",
       "  [3, 5, 7, 8, 9],\n",
       "  [],\n",
       "  [1, 3, 8, 9],\n",
       "  [1, 4, 8, 9]]]"
      ]
     },
     "execution_count": 127,
     "metadata": {},
     "output_type": "execute_result"
    }
   ],
   "source": [
    "decode_candidates(c)"
   ]
  },
  {
   "cell_type": "markdown",
   "metadata": {},
   "source": [
    "# The hardest grid"
   ]
  },
  {
   "cell_type": "code",
   "execution_count": 1,
   "metadata": {},
   "outputs": [],
   "source": [
    "grid = [\n",
    "  [9, 0, 0, 0, 8, 0, 0, 0, 5],\n",
    "  [0, 0, 0, 0, 0, 0, 0, 0, 6],\n",
    "  [0, 0, 0, 0, 0, 0, 0, 0, 7],\n",
    "  [0, 8, 0, 0, 0, 5, 0, 0, 4],\n",
    "  [0, 0, 0, 0, 0, 0, 0, 0, 0],\n",
    "  [1, 0, 0, 4, 0, 2, 3, 0, 0],\n",
    "  [0, 0, 0, 0, 0, 0, 0, 0, 0],\n",
    "  [0, 1, 3, 0, 0, 0, 0, 0, 2],\n",
    "  [2, 0, 0, 0, 0, 9, 0, 8, 3]\n",
    "]"
   ]
  },
  {
   "cell_type": "code",
   "execution_count": 4,
   "metadata": {},
   "outputs": [],
   "source": [
    "from src.Sudoku import Sudoku\n",
    "from src.SudokuAnalyzer import SudokuAnalyzer\n",
    "from src.SudokuScrambler import SudokuScrambler\n",
    "from src.SudokuSolver import SudokuSolver\n",
    "\n",
    "sudoku = Sudoku(grid)"
   ]
  },
  {
   "cell_type": "code",
   "execution_count": 5,
   "metadata": {},
   "outputs": [],
   "source": [
    "grid = [[3, 6, 5, 0, 1, 0, 4, 0, 0],\n",
    " [0, 9, 0, 0, 0, 6, 0, 0, 0],\n",
    " [0, 0, 0, 3, 8, 0, 2, 0, 6],\n",
    " [0, 7, 0, 6, 2, 3, 0, 0, 8],\n",
    " [1, 0, 0, 7, 0, 4, 3, 0, 0],\n",
    " [0, 0, 0, 0, 0, 1, 0, 4, 2],\n",
    " [0, 0, 3, 2, 0, 0, 0, 5, 1],\n",
    " [9, 0, 0, 0, 0, 0, 0, 0, 3],\n",
    " [0, 0, 1, 0, 0, 0, 8, 0, 0]]"
   ]
  },
  {
   "cell_type": "code",
   "execution_count": 6,
   "metadata": {},
   "outputs": [
    {
     "data": {
      "text/plain": [
       "'365010400090006000000380206070623008100704300000001042003200051900000003001000800'"
      ]
     },
     "execution_count": 6,
     "metadata": {},
     "output_type": "execute_result"
    }
   ],
   "source": [
    "sudoku = Sudoku(grid)\n",
    "sudoku.get_hash()"
   ]
  },
  {
   "cell_type": "code",
   "execution_count": 50,
   "metadata": {},
   "outputs": [],
   "source": [
    "non_zeros = []\n",
    "for y in range(9):\n",
    "    for x in range(9):\n",
    "        if grid[y][x]:\n",
    "            non_zeros.append((x, y))\n"
   ]
  },
  {
   "cell_type": "code",
   "execution_count": 51,
   "metadata": {},
   "outputs": [
    {
     "data": {
      "text/plain": [
       "(151, 31, 3.06)"
      ]
     },
     "execution_count": 51,
     "metadata": {},
     "output_type": "execute_result"
    }
   ],
   "source": [
    "sudoku = Sudoku(grid)\n",
    "analyzer = SudokuAnalyzer(sudoku)\n",
    "analyzer.get_sudoku_description()"
   ]
  },
  {
   "cell_type": "code",
   "execution_count": 52,
   "metadata": {},
   "outputs": [],
   "source": [
    "from random import shuffle\n",
    "\n",
    "shuffle(non_zeros)\n",
    "\n",
    "for x, y in non_zeros:\n",
    "    tmp, grid[y][x] = grid[y][x], 0\n",
    "    sudoku = Sudoku(grid)\n",
    "    solver = SudokuSolver(sudoku)\n",
    "    result = solver.solve()\n",
    "    if result is None:\n",
    "    #    print(f\"Cannot remove {x} {y} {tmp}\")\n",
    "    \n",
    "    grid[y][x] = tmp\n",
    "    \n",
    "    \n"
   ]
  },
  {
   "cell_type": "code",
   "execution_count": 2,
   "metadata": {},
   "outputs": [
    {
     "ename": "NameError",
     "evalue": "name 'Sudoku' is not defined",
     "output_type": "error",
     "traceback": [
      "\u001b[1;31m---------------------------------------------------------------------------\u001b[0m",
      "\u001b[1;31mNameError\u001b[0m                                 Traceback (most recent call last)",
      "Cell \u001b[1;32mIn[2], line 1\u001b[0m\n\u001b[1;32m----> 1\u001b[0m sudoku \u001b[38;5;241m=\u001b[39m \u001b[43mSudoku\u001b[49m(grid)\n\u001b[0;32m      2\u001b[0m analyzer \u001b[38;5;241m=\u001b[39m SudokuAnalyzer(sudoku)\n\u001b[0;32m      3\u001b[0m analyzer\u001b[38;5;241m.\u001b[39mget_sudoku_description()\n",
      "\u001b[1;31mNameError\u001b[0m: name 'Sudoku' is not defined"
     ]
    }
   ],
   "source": [
    "sudoku = Sudoku(grid)\n",
    "analyzer = SudokuAnalyzer(sudoku)\n",
    "analyzer.get_sudoku_description()"
   ]
  },
  {
   "cell_type": "markdown",
   "metadata": {},
   "source": [
    "# Recursive removal of digits\n"
   ]
  },
  {
   "cell_type": "code",
   "execution_count": 29,
   "metadata": {},
   "outputs": [],
   "source": [
    "from src.Sudoku import Sudoku\n",
    "from src.SudokuSolver import SudokuSolver\n",
    "from src.SudokuAnalyzer import SudokuAnalyzer\n",
    "from copy import deepcopy\n",
    "\n",
    "\n",
    "def remove_digits(grids: list, desired_deepnees: int, limit = 1000, filename = \"grids.txt\"):\n",
    "    results = []\n",
    "    found_grids = 0\n",
    "    valid_grids = set()\n",
    "\n",
    "    with open(filename, 'r') as f:\n",
    "        valid_grids = set([line.strip() for line in f])\n",
    "\n",
    "    print(len(valid_grids))\n",
    "\n",
    "\n",
    "    def recursive_removal(sudoku: Sudoku, first_solution: Sudoku, list_of_non_zeros: list, n: int = 0):\n",
    "        nonlocal limit\n",
    "        nonlocal results\n",
    "        nonlocal found_grids\n",
    "\n",
    "        if found_grids == limit:\n",
    "            return None\n",
    "\n",
    "        if sudoku.get_hash() in valid_grids:\n",
    "            return None\n",
    "        \n",
    "        solver = SudokuSolver(sudoku)\n",
    "        if solver.solve_recursive(ignore_solution=first_solution) is not None:\n",
    "            sudoku.reset_sudoku()\n",
    "            return None\n",
    "\n",
    "        valid_grids.add(sudoku.get_hash())\n",
    "\n",
    "        if n == desired_deepnees:\n",
    "            found_grids += 1\n",
    "            with open(filename, 'a') as f:\n",
    "                f.write(f\"{sudoku.get_hash()}\\n\")\n",
    "            results.append(deepcopy(sudoku.grid))\n",
    "            return None\n",
    "\n",
    "        for i, coords in enumerate(list_of_non_zeros):\n",
    "            tmp = sudoku.get_cell(coords[0], coords[1])\n",
    "            sudoku.initial_grid[coords[1], coords[0]] = 0\n",
    "            sudoku.set_cell(coords[0], coords[1], 0)\n",
    "\n",
    "            recursive_removal(\n",
    "                sudoku, first_solution, list_of_non_zeros[:i] + list_of_non_zeros[i + 1 :], n + 1\n",
    "            )\n",
    "            \n",
    "            sudoku.set_cell(coords[0], coords[1], tmp)\n",
    "            sudoku.initial_grid[coords[1], coords[0]] = tmp\n",
    "        \n",
    "        return None\n",
    "    \n",
    "    for g in grids:\n",
    "        sudoku = Sudoku(g)\n",
    "        found_grids = 0\n",
    "     \n",
    "        non_zeros = []\n",
    "        for y in range(9):\n",
    "            for x in range(9):\n",
    "                if sudoku.grid[y][x]:\n",
    "                    non_zeros.append((x, y))\n",
    "\n",
    "        solver = SudokuSolver(sudoku)\n",
    "        solution = deepcopy(solver.solve_recursive())\n",
    "        sudoku.reset_sudoku()\n",
    "\n",
    "        recursive_removal(sudoku, solution, non_zeros)\n",
    "\n",
    "    return results\n",
    "\n",
    "def hash_to_grid(hash: str):\n",
    "    grid = \"\"\n",
    "    for i in range(0, 81, 9):\n",
    "        grid += hash[i : i + 9] + \"\\n\"\n",
    "\n",
    "    return grid\n",
    "\n",
    "def remove_duplicated_lines_from_file(filename):\n",
    "    with open(filename, \"r+\") as f:\n",
    "        hashes = [line.strip() for line in f]\n",
    "        hashes = set(hashes)\n",
    "        f.seek(0)\n",
    "        for h in hashes:\n",
    "            f.write(f\"{h}\\n\")\n",
    "        f.truncate()"
   ]
  },
  {
   "cell_type": "code",
   "execution_count": 27,
   "metadata": {},
   "outputs": [],
   "source": [
    "remove_duplicated_lines_from_file(f\"grids/grids_{26}.txt\")\n"
   ]
  },
  {
   "cell_type": "code",
   "execution_count": 31,
   "metadata": {},
   "outputs": [
    {
     "name": "stdout",
     "output_type": "stream",
     "text": [
      "264\n",
      "19\n",
      "1\n"
     ]
    },
    {
     "ename": "FileNotFoundError",
     "evalue": "[Errno 2] No such file or directory: 'grids/grids_19.txt'",
     "output_type": "error",
     "traceback": [
      "\u001b[1;31m---------------------------------------------------------------------------\u001b[0m",
      "\u001b[1;31mFileNotFoundError\u001b[0m                         Traceback (most recent call last)",
      "Cell \u001b[1;32mIn[31], line 13\u001b[0m\n\u001b[0;32m      9\u001b[0m grids \u001b[38;5;241m=\u001b[39m [hash_to_grid(h) \u001b[38;5;28;01mfor\u001b[39;00m h \u001b[38;5;129;01min\u001b[39;00m hashes]\n\u001b[0;32m     10\u001b[0m lenght \u001b[38;5;241m=\u001b[39m \u001b[38;5;28mlen\u001b[39m(grids)\n\u001b[1;32m---> 13\u001b[0m new_grids \u001b[38;5;241m=\u001b[39m \u001b[43mremove_digits\u001b[49m\u001b[43m(\u001b[49m\u001b[43mgrids\u001b[49m\u001b[43m[\u001b[49m\u001b[43m:\u001b[49m\u001b[43mroot_grids_limit\u001b[49m\u001b[43m]\u001b[49m\u001b[43m,\u001b[49m\u001b[43m \u001b[49m\u001b[38;5;241;43m1\u001b[39;49m\u001b[43m,\u001b[49m\u001b[43m \u001b[49m\u001b[43msub_grids_limit\u001b[49m\u001b[43m,\u001b[49m\u001b[43m \u001b[49m\u001b[38;5;124;43mf\u001b[39;49m\u001b[38;5;124;43m\"\u001b[39;49m\u001b[38;5;124;43mgrids/grids_\u001b[39;49m\u001b[38;5;132;43;01m{\u001b[39;49;00m\u001b[43mi\u001b[49m\u001b[38;5;250;43m \u001b[39;49m\u001b[38;5;241;43m-\u001b[39;49m\u001b[38;5;250;43m \u001b[39;49m\u001b[38;5;241;43m1\u001b[39;49m\u001b[38;5;132;43;01m}\u001b[39;49;00m\u001b[38;5;124;43m.txt\u001b[39;49m\u001b[38;5;124;43m\"\u001b[39;49m\u001b[43m)\u001b[49m\n\u001b[0;32m     14\u001b[0m remove_duplicated_lines_from_file(\u001b[38;5;124mf\u001b[39m\u001b[38;5;124m\"\u001b[39m\u001b[38;5;124mgrids/grids_\u001b[39m\u001b[38;5;132;01m{\u001b[39;00mi\u001b[38;5;250m \u001b[39m\u001b[38;5;241m-\u001b[39m\u001b[38;5;250m \u001b[39m\u001b[38;5;241m1\u001b[39m\u001b[38;5;132;01m}\u001b[39;00m\u001b[38;5;124m.txt\u001b[39m\u001b[38;5;124m\"\u001b[39m)\n\u001b[0;32m     16\u001b[0m \u001b[38;5;28;01mwith\u001b[39;00m \u001b[38;5;28mopen\u001b[39m(\u001b[38;5;124m\"\u001b[39m\u001b[38;5;124mdebug.txt\u001b[39m\u001b[38;5;124m\"\u001b[39m, \u001b[38;5;124m'\u001b[39m\u001b[38;5;124ma\u001b[39m\u001b[38;5;124m'\u001b[39m) \u001b[38;5;28;01mas\u001b[39;00m f:\n",
      "Cell \u001b[1;32mIn[29], line 12\u001b[0m, in \u001b[0;36mremove_digits\u001b[1;34m(grids, desired_deepnees, limit, filename)\u001b[0m\n\u001b[0;32m      9\u001b[0m found_grids \u001b[38;5;241m=\u001b[39m \u001b[38;5;241m0\u001b[39m\n\u001b[0;32m     10\u001b[0m valid_grids \u001b[38;5;241m=\u001b[39m \u001b[38;5;28mset\u001b[39m()\n\u001b[1;32m---> 12\u001b[0m \u001b[38;5;28;01mwith\u001b[39;00m \u001b[38;5;28;43mopen\u001b[39;49m\u001b[43m(\u001b[49m\u001b[43mfilename\u001b[49m\u001b[43m,\u001b[49m\u001b[43m \u001b[49m\u001b[38;5;124;43m'\u001b[39;49m\u001b[38;5;124;43mr\u001b[39;49m\u001b[38;5;124;43m'\u001b[39;49m\u001b[43m)\u001b[49m \u001b[38;5;28;01mas\u001b[39;00m f:\n\u001b[0;32m     13\u001b[0m     valid_grids \u001b[38;5;241m=\u001b[39m \u001b[38;5;28mset\u001b[39m([line\u001b[38;5;241m.\u001b[39mstrip() \u001b[38;5;28;01mfor\u001b[39;00m line \u001b[38;5;129;01min\u001b[39;00m f])\n\u001b[0;32m     15\u001b[0m \u001b[38;5;28mprint\u001b[39m(\u001b[38;5;28mlen\u001b[39m(valid_grids))\n",
      "File \u001b[1;32m~\\AppData\\Roaming\\Python\\Python311\\site-packages\\IPython\\core\\interactiveshell.py:286\u001b[0m, in \u001b[0;36m_modified_open\u001b[1;34m(file, *args, **kwargs)\u001b[0m\n\u001b[0;32m    279\u001b[0m \u001b[38;5;28;01mif\u001b[39;00m file \u001b[38;5;129;01min\u001b[39;00m {\u001b[38;5;241m0\u001b[39m, \u001b[38;5;241m1\u001b[39m, \u001b[38;5;241m2\u001b[39m}:\n\u001b[0;32m    280\u001b[0m     \u001b[38;5;28;01mraise\u001b[39;00m \u001b[38;5;167;01mValueError\u001b[39;00m(\n\u001b[0;32m    281\u001b[0m         \u001b[38;5;124mf\u001b[39m\u001b[38;5;124m\"\u001b[39m\u001b[38;5;124mIPython won\u001b[39m\u001b[38;5;124m'\u001b[39m\u001b[38;5;124mt let you open fd=\u001b[39m\u001b[38;5;132;01m{\u001b[39;00mfile\u001b[38;5;132;01m}\u001b[39;00m\u001b[38;5;124m by default \u001b[39m\u001b[38;5;124m\"\u001b[39m\n\u001b[0;32m    282\u001b[0m         \u001b[38;5;124m\"\u001b[39m\u001b[38;5;124mas it is likely to crash IPython. If you know what you are doing, \u001b[39m\u001b[38;5;124m\"\u001b[39m\n\u001b[0;32m    283\u001b[0m         \u001b[38;5;124m\"\u001b[39m\u001b[38;5;124myou can use builtins\u001b[39m\u001b[38;5;124m'\u001b[39m\u001b[38;5;124m open.\u001b[39m\u001b[38;5;124m\"\u001b[39m\n\u001b[0;32m    284\u001b[0m     )\n\u001b[1;32m--> 286\u001b[0m \u001b[38;5;28;01mreturn\u001b[39;00m \u001b[43mio_open\u001b[49m\u001b[43m(\u001b[49m\u001b[43mfile\u001b[49m\u001b[43m,\u001b[49m\u001b[43m \u001b[49m\u001b[38;5;241;43m*\u001b[39;49m\u001b[43margs\u001b[49m\u001b[43m,\u001b[49m\u001b[43m \u001b[49m\u001b[38;5;241;43m*\u001b[39;49m\u001b[38;5;241;43m*\u001b[39;49m\u001b[43mkwargs\u001b[49m\u001b[43m)\u001b[49m\n",
      "\u001b[1;31mFileNotFoundError\u001b[0m: [Errno 2] No such file or directory: 'grids/grids_19.txt'"
     ]
    }
   ],
   "source": [
    "root_grids_limit = 2000\n",
    "sub_grids_limit = 100\n",
    "\n",
    "for i in range(23, 19, -1):\n",
    "\n",
    "    with open(f\"grids/grids_{i}.txt\") as f:\n",
    "        hashes = [line.strip() for line in f]\n",
    "\n",
    "    grids = [hash_to_grid(h) for h in hashes]\n",
    "    lenght = len(grids)\n",
    "\n",
    "\n",
    "    new_grids = remove_digits(grids[:root_grids_limit], 1, sub_grids_limit, f\"grids/grids_{i - 1}.txt\")\n",
    "    remove_duplicated_lines_from_file(f\"grids/grids_{i - 1}.txt\")\n",
    "\n",
    "    with open(\"debug.txt\", 'a') as f:\n",
    "        f.write(f\"{i} done\\n\")"
   ]
  },
  {
   "cell_type": "code",
   "execution_count": 9,
   "metadata": {},
   "outputs": [
    {
     "data": {
      "text/plain": [
       "(240, 22, 3.14)"
      ]
     },
     "execution_count": 9,
     "metadata": {},
     "output_type": "execute_result"
    }
   ],
   "source": [
    "grid = hash_to_grid(\"100020000600000800000000106004500320090600000000030000057200090009080000000400071\")\n",
    "sudoku = Sudoku(grid)\n",
    "analyzer = SudokuAnalyzer(sudoku)\n",
    "analyzer.get_sudoku_description()"
   ]
  },
  {
   "cell_type": "code",
   "execution_count": 35,
   "metadata": {},
   "outputs": [],
   "source": [
    "my_gridooo = deepcopy(new_grids)"
   ]
  },
  {
   "cell_type": "code",
   "execution_count": 57,
   "metadata": {},
   "outputs": [
    {
     "ename": "KeyboardInterrupt",
     "evalue": "",
     "output_type": "error",
     "traceback": [
      "\u001b[1;31m---------------------------------------------------------------------------\u001b[0m",
      "\u001b[1;31mKeyboardInterrupt\u001b[0m                         Traceback (most recent call last)",
      "Cell \u001b[1;32mIn[57], line 6\u001b[0m\n\u001b[0;32m      4\u001b[0m new_grids \u001b[38;5;241m=\u001b[39m []\n\u001b[0;32m      5\u001b[0m \u001b[38;5;28;01mfor\u001b[39;00m g \u001b[38;5;129;01min\u001b[39;00m my_gridooo:\n\u001b[1;32m----> 6\u001b[0m     grids \u001b[38;5;241m=\u001b[39m \u001b[43mproduce_subgrids\u001b[49m\u001b[43m(\u001b[49m\u001b[43mg\u001b[49m\u001b[43m,\u001b[49m\u001b[43m \u001b[49m\u001b[38;5;241;43m3\u001b[39;49m\u001b[43m,\u001b[49m\u001b[43m \u001b[49m\u001b[38;5;241;43m10\u001b[39;49m\u001b[43m,\u001b[49m\u001b[43m \u001b[49m\u001b[38;5;124;43m\"\u001b[39;49m\u001b[38;5;124;43mgrids_22.txt\u001b[39;49m\u001b[38;5;124;43m\"\u001b[39;49m\u001b[43m)\u001b[49m\n\u001b[0;32m      7\u001b[0m     new_grids\u001b[38;5;241m.\u001b[39mextend(grids)\n\u001b[0;32m      9\u001b[0m \u001b[38;5;28mlen\u001b[39m(new_grids)\n",
      "Cell \u001b[1;32mIn[56], line 15\u001b[0m, in \u001b[0;36mproduce_subgrids\u001b[1;34m(grid, deepness, limit, filename)\u001b[0m\n\u001b[0;32m     13\u001b[0m \u001b[38;5;28;01mdef\u001b[39;00m \u001b[38;5;21mproduce_subgrids\u001b[39m(grid, deepness, limit, filename):\n\u001b[0;32m     14\u001b[0m     sudoku \u001b[38;5;241m=\u001b[39m Sudoku(grid)\n\u001b[1;32m---> 15\u001b[0m     new_grids \u001b[38;5;241m=\u001b[39m \u001b[43mremove_digits\u001b[49m\u001b[43m(\u001b[49m\u001b[43msudoku\u001b[49m\u001b[43m,\u001b[49m\u001b[43m \u001b[49m\u001b[43mdeepness\u001b[49m\u001b[43m,\u001b[49m\u001b[43m \u001b[49m\u001b[43mlimit\u001b[49m\u001b[43m,\u001b[49m\u001b[43m \u001b[49m\u001b[43mfilename\u001b[49m\u001b[43m)\u001b[49m\n\u001b[0;32m     16\u001b[0m     \u001b[38;5;28;01mreturn\u001b[39;00m new_grids\n",
      "Cell \u001b[1;32mIn[55], line 59\u001b[0m, in \u001b[0;36mremove_digits\u001b[1;34m(sudoku, desired_deepnees, limit, filename)\u001b[0m\n\u001b[0;32m     56\u001b[0m solution \u001b[38;5;241m=\u001b[39m deepcopy(solver\u001b[38;5;241m.\u001b[39msolve_recursive())\n\u001b[0;32m     57\u001b[0m sudoku\u001b[38;5;241m.\u001b[39mreset_sudoku()\n\u001b[1;32m---> 59\u001b[0m \u001b[43mrecursive_removal\u001b[49m\u001b[43m(\u001b[49m\u001b[43msudoku\u001b[49m\u001b[43m,\u001b[49m\u001b[43m \u001b[49m\u001b[43msolution\u001b[49m\u001b[43m,\u001b[49m\u001b[43m \u001b[49m\u001b[43mnon_zeros\u001b[49m\u001b[43m)\u001b[49m\n\u001b[0;32m     61\u001b[0m \u001b[38;5;28;01mreturn\u001b[39;00m results\n",
      "Cell \u001b[1;32mIn[55], line 46\u001b[0m, in \u001b[0;36mremove_digits.<locals>.recursive_removal\u001b[1;34m(sudoku, first_solution, list_of_non_zeros, n)\u001b[0m\n\u001b[0;32m     43\u001b[0m sudoku\u001b[38;5;241m.\u001b[39minitial_grid[coords[\u001b[38;5;241m1\u001b[39m], coords[\u001b[38;5;241m0\u001b[39m]] \u001b[38;5;241m=\u001b[39m \u001b[38;5;241m0\u001b[39m\n\u001b[0;32m     44\u001b[0m sudoku\u001b[38;5;241m.\u001b[39mset_cell(coords[\u001b[38;5;241m0\u001b[39m], coords[\u001b[38;5;241m1\u001b[39m], \u001b[38;5;241m0\u001b[39m)\n\u001b[1;32m---> 46\u001b[0m \u001b[43mrecursive_removal\u001b[49m\u001b[43m(\u001b[49m\n\u001b[0;32m     47\u001b[0m \u001b[43m    \u001b[49m\u001b[43msudoku\u001b[49m\u001b[43m,\u001b[49m\u001b[43m \u001b[49m\u001b[43mfirst_solution\u001b[49m\u001b[43m,\u001b[49m\u001b[43m \u001b[49m\u001b[43mlist_of_non_zeros\u001b[49m\u001b[43m[\u001b[49m\u001b[43m:\u001b[49m\u001b[43mi\u001b[49m\u001b[43m]\u001b[49m\u001b[43m \u001b[49m\u001b[38;5;241;43m+\u001b[39;49m\u001b[43m \u001b[49m\u001b[43mlist_of_non_zeros\u001b[49m\u001b[43m[\u001b[49m\u001b[43mi\u001b[49m\u001b[43m \u001b[49m\u001b[38;5;241;43m+\u001b[39;49m\u001b[43m \u001b[49m\u001b[38;5;241;43m1\u001b[39;49m\u001b[43m \u001b[49m\u001b[43m:\u001b[49m\u001b[43m]\u001b[49m\u001b[43m,\u001b[49m\u001b[43m \u001b[49m\u001b[43mn\u001b[49m\u001b[43m \u001b[49m\u001b[38;5;241;43m+\u001b[39;49m\u001b[43m \u001b[49m\u001b[38;5;241;43m1\u001b[39;49m\n\u001b[0;32m     48\u001b[0m \u001b[43m\u001b[49m\u001b[43m)\u001b[49m\n\u001b[0;32m     50\u001b[0m sudoku\u001b[38;5;241m.\u001b[39mset_cell(coords[\u001b[38;5;241m0\u001b[39m], coords[\u001b[38;5;241m1\u001b[39m], tmp)\n\u001b[0;32m     51\u001b[0m sudoku\u001b[38;5;241m.\u001b[39minitial_grid[coords[\u001b[38;5;241m1\u001b[39m], coords[\u001b[38;5;241m0\u001b[39m]] \u001b[38;5;241m=\u001b[39m tmp\n",
      "Cell \u001b[1;32mIn[55], line 29\u001b[0m, in \u001b[0;36mremove_digits.<locals>.recursive_removal\u001b[1;34m(sudoku, first_solution, list_of_non_zeros, n)\u001b[0m\n\u001b[0;32m     26\u001b[0m     \u001b[38;5;28;01mreturn\u001b[39;00m \u001b[38;5;28;01mNone\u001b[39;00m\n\u001b[0;32m     28\u001b[0m solver \u001b[38;5;241m=\u001b[39m SudokuSolver(sudoku)\n\u001b[1;32m---> 29\u001b[0m \u001b[38;5;28;01mif\u001b[39;00m \u001b[43msolver\u001b[49m\u001b[38;5;241;43m.\u001b[39;49m\u001b[43msolve_recursive\u001b[49m\u001b[43m(\u001b[49m\u001b[43mignore_solution\u001b[49m\u001b[38;5;241;43m=\u001b[39;49m\u001b[43mfirst_solution\u001b[49m\u001b[43m)\u001b[49m \u001b[38;5;129;01mis\u001b[39;00m \u001b[38;5;129;01mnot\u001b[39;00m \u001b[38;5;28;01mNone\u001b[39;00m:\n\u001b[0;32m     30\u001b[0m     sudoku\u001b[38;5;241m.\u001b[39mreset_sudoku()\n\u001b[0;32m     31\u001b[0m     \u001b[38;5;28;01mreturn\u001b[39;00m \u001b[38;5;28;01mNone\u001b[39;00m\n",
      "File \u001b[1;32me:\\Major Proj\\major\\src\\SudokuSolver.py:193\u001b[0m, in \u001b[0;36mSudokuSolver.solve_recursive\u001b[1;34m(self, n, ignore_solution)\u001b[0m\n\u001b[0;32m    191\u001b[0m \u001b[38;5;28mself\u001b[39m\u001b[38;5;241m.\u001b[39msudoku\u001b[38;5;241m.\u001b[39mset_cell(x, y, value)\n\u001b[0;32m    192\u001b[0m \u001b[38;5;28mself\u001b[39m\u001b[38;5;241m.\u001b[39mcreate_grid_of_candidates()\n\u001b[1;32m--> 193\u001b[0m result \u001b[38;5;241m=\u001b[39m \u001b[38;5;28;43mself\u001b[39;49m\u001b[38;5;241;43m.\u001b[39;49m\u001b[43msolve_recursive\u001b[49m\u001b[43m(\u001b[49m\u001b[43mn\u001b[49m\u001b[43m \u001b[49m\u001b[38;5;241;43m=\u001b[39;49m\u001b[43m \u001b[49m\u001b[43mn\u001b[49m\u001b[43m \u001b[49m\u001b[38;5;241;43m+\u001b[39;49m\u001b[43m \u001b[49m\u001b[38;5;241;43m1\u001b[39;49m\u001b[43m,\u001b[49m\u001b[43m \u001b[49m\u001b[43mignore_solution\u001b[49m\u001b[38;5;241;43m=\u001b[39;49m\u001b[43mignore_solution\u001b[49m\u001b[43m)\u001b[49m\n\u001b[0;32m    194\u001b[0m \u001b[38;5;28;01mif\u001b[39;00m result \u001b[38;5;129;01mis\u001b[39;00m \u001b[38;5;129;01mnot\u001b[39;00m \u001b[38;5;28;01mNone\u001b[39;00m:\n\u001b[0;32m    195\u001b[0m     \u001b[38;5;28;01mreturn\u001b[39;00m \u001b[38;5;28mself\u001b[39m\u001b[38;5;241m.\u001b[39msudoku\n",
      "File \u001b[1;32me:\\Major Proj\\major\\src\\SudokuSolver.py:193\u001b[0m, in \u001b[0;36mSudokuSolver.solve_recursive\u001b[1;34m(self, n, ignore_solution)\u001b[0m\n\u001b[0;32m    191\u001b[0m \u001b[38;5;28mself\u001b[39m\u001b[38;5;241m.\u001b[39msudoku\u001b[38;5;241m.\u001b[39mset_cell(x, y, value)\n\u001b[0;32m    192\u001b[0m \u001b[38;5;28mself\u001b[39m\u001b[38;5;241m.\u001b[39mcreate_grid_of_candidates()\n\u001b[1;32m--> 193\u001b[0m result \u001b[38;5;241m=\u001b[39m \u001b[38;5;28;43mself\u001b[39;49m\u001b[38;5;241;43m.\u001b[39;49m\u001b[43msolve_recursive\u001b[49m\u001b[43m(\u001b[49m\u001b[43mn\u001b[49m\u001b[43m \u001b[49m\u001b[38;5;241;43m=\u001b[39;49m\u001b[43m \u001b[49m\u001b[43mn\u001b[49m\u001b[43m \u001b[49m\u001b[38;5;241;43m+\u001b[39;49m\u001b[43m \u001b[49m\u001b[38;5;241;43m1\u001b[39;49m\u001b[43m,\u001b[49m\u001b[43m \u001b[49m\u001b[43mignore_solution\u001b[49m\u001b[38;5;241;43m=\u001b[39;49m\u001b[43mignore_solution\u001b[49m\u001b[43m)\u001b[49m\n\u001b[0;32m    194\u001b[0m \u001b[38;5;28;01mif\u001b[39;00m result \u001b[38;5;129;01mis\u001b[39;00m \u001b[38;5;129;01mnot\u001b[39;00m \u001b[38;5;28;01mNone\u001b[39;00m:\n\u001b[0;32m    195\u001b[0m     \u001b[38;5;28;01mreturn\u001b[39;00m \u001b[38;5;28mself\u001b[39m\u001b[38;5;241m.\u001b[39msudoku\n",
      "    \u001b[1;31m[... skipping similar frames: SudokuSolver.solve_recursive at line 193 (20 times)]\u001b[0m\n",
      "File \u001b[1;32me:\\Major Proj\\major\\src\\SudokuSolver.py:193\u001b[0m, in \u001b[0;36mSudokuSolver.solve_recursive\u001b[1;34m(self, n, ignore_solution)\u001b[0m\n\u001b[0;32m    191\u001b[0m \u001b[38;5;28mself\u001b[39m\u001b[38;5;241m.\u001b[39msudoku\u001b[38;5;241m.\u001b[39mset_cell(x, y, value)\n\u001b[0;32m    192\u001b[0m \u001b[38;5;28mself\u001b[39m\u001b[38;5;241m.\u001b[39mcreate_grid_of_candidates()\n\u001b[1;32m--> 193\u001b[0m result \u001b[38;5;241m=\u001b[39m \u001b[38;5;28;43mself\u001b[39;49m\u001b[38;5;241;43m.\u001b[39;49m\u001b[43msolve_recursive\u001b[49m\u001b[43m(\u001b[49m\u001b[43mn\u001b[49m\u001b[43m \u001b[49m\u001b[38;5;241;43m=\u001b[39;49m\u001b[43m \u001b[49m\u001b[43mn\u001b[49m\u001b[43m \u001b[49m\u001b[38;5;241;43m+\u001b[39;49m\u001b[43m \u001b[49m\u001b[38;5;241;43m1\u001b[39;49m\u001b[43m,\u001b[49m\u001b[43m \u001b[49m\u001b[43mignore_solution\u001b[49m\u001b[38;5;241;43m=\u001b[39;49m\u001b[43mignore_solution\u001b[49m\u001b[43m)\u001b[49m\n\u001b[0;32m    194\u001b[0m \u001b[38;5;28;01mif\u001b[39;00m result \u001b[38;5;129;01mis\u001b[39;00m \u001b[38;5;129;01mnot\u001b[39;00m \u001b[38;5;28;01mNone\u001b[39;00m:\n\u001b[0;32m    195\u001b[0m     \u001b[38;5;28;01mreturn\u001b[39;00m \u001b[38;5;28mself\u001b[39m\u001b[38;5;241m.\u001b[39msudoku\n",
      "File \u001b[1;32me:\\Major Proj\\major\\src\\SudokuSolver.py:189\u001b[0m, in \u001b[0;36mSudokuSolver.solve_recursive\u001b[1;34m(self, n, ignore_solution)\u001b[0m\n\u001b[0;32m    186\u001b[0m x, y, values \u001b[38;5;241m=\u001b[39m \u001b[38;5;28mself\u001b[39m\u001b[38;5;241m.\u001b[39mget_lowest_candidates_number()\n\u001b[0;32m    188\u001b[0m \u001b[38;5;28;01mfor\u001b[39;00m value \u001b[38;5;129;01min\u001b[39;00m values:\n\u001b[1;32m--> 189\u001b[0m     \u001b[38;5;28;01mwith\u001b[39;00m \u001b[38;5;28mopen\u001b[39m(\u001b[38;5;28mself\u001b[39m\u001b[38;5;241m.\u001b[39mdebug_file, \u001b[38;5;124m'\u001b[39m\u001b[38;5;124ma\u001b[39m\u001b[38;5;124m'\u001b[39m) \u001b[38;5;28;01mas\u001b[39;00m f:\n\u001b[0;32m    190\u001b[0m         f\u001b[38;5;241m.\u001b[39mwrite(\u001b[38;5;124mf\u001b[39m\u001b[38;5;124m\"\u001b[39m\u001b[38;5;124mx:\u001b[39m\u001b[38;5;132;01m{\u001b[39;00mx\u001b[38;5;132;01m}\u001b[39;00m\u001b[38;5;124m y:\u001b[39m\u001b[38;5;132;01m{\u001b[39;00my\u001b[38;5;132;01m}\u001b[39;00m\u001b[38;5;124m value:\u001b[39m\u001b[38;5;132;01m{\u001b[39;00mvalue\u001b[38;5;132;01m}\u001b[39;00m\u001b[38;5;124m n:\u001b[39m\u001b[38;5;132;01m{\u001b[39;00mn\u001b[38;5;132;01m}\u001b[39;00m\u001b[38;5;130;01m\\n\u001b[39;00m\u001b[38;5;124m\"\u001b[39m)\n\u001b[0;32m    191\u001b[0m     \u001b[38;5;28mself\u001b[39m\u001b[38;5;241m.\u001b[39msudoku\u001b[38;5;241m.\u001b[39mset_cell(x, y, value)\n",
      "File \u001b[1;32m<frozen codecs>:186\u001b[0m, in \u001b[0;36m__init__\u001b[1;34m(self, errors)\u001b[0m\n",
      "\u001b[1;31mKeyboardInterrupt\u001b[0m: "
     ]
    }
   ],
   "source": [
    "from random import shuffle\n",
    "shuffle(my_gridooo)\n",
    "\n",
    "new_grids = []\n",
    "for g in my_gridooo:\n",
    "    grids = produce_subgrids(g, 3, 10, \"grids_22.txt\")\n",
    "    new_grids.extend(grids)\n",
    "\n",
    "len(new_grids)"
   ]
  },
  {
   "cell_type": "code",
   "execution_count": 46,
   "metadata": {},
   "outputs": [],
   "source": [
    "def save_grids(grids, file):\n",
    "    with open(file, 'a') as f:\n",
    "        for g in grids:\n",
    "            sudoku = Sudoku(g)\n",
    "            analyzer = SudokuAnalyzer(sudoku)\n",
    "            properties = analyzer.get_sudoku_description()\n",
    "            f.write(f\"{properties[0]};{properties[1]};{properties[2]}\\n\")\n",
    "            f.write(f\"{sudoku.get_hash()}\\n\")"
   ]
  },
  {
   "cell_type": "code",
   "execution_count": 48,
   "metadata": {},
   "outputs": [],
   "source": [
    "save_grids(my_gridooo, \"grids_25.txt\")"
   ]
  },
  {
   "cell_type": "code",
   "execution_count": 45,
   "metadata": {},
   "outputs": [
    {
     "data": {
      "text/plain": [
       "4344"
      ]
     },
     "execution_count": 45,
     "metadata": {},
     "output_type": "execute_result"
    }
   ],
   "source": [
    "len(my_gridooo)"
   ]
  },
  {
   "cell_type": "code",
   "execution_count": 47,
   "metadata": {},
   "outputs": [
    {
     "data": {
      "text/plain": [
       "(217, 25, 3.06)"
      ]
     },
     "execution_count": 47,
     "metadata": {},
     "output_type": "execute_result"
    }
   ],
   "source": [
    "g = my_gridooo[0]\n",
    "sudoku = Sudoku(g)\n",
    "analyzer = SudokuAnalyzer(sudoku)\n",
    "analyzer.get_sudoku_description()"
   ]
  },
  {
   "cell_type": "code",
   "execution_count": null,
   "metadata": {},
   "outputs": [],
   "source": [
    "from copy import deepcopy\n",
    "\n",
    "grid = [\n",
    "    [3, 6, 5, 0, 1, 0, 4, 0, 0],\n",
    "    [0, 9, 0, 0, 0, 6, 0, 0, 0],\n",
    "    [0, 0, 0, 3, 8, 0, 2, 0, 6],\n",
    "    [0, 7, 0, 6, 2, 3, 0, 0, 8],\n",
    "    [1, 0, 0, 7, 0, 4, 3, 0, 0],\n",
    "    [0, 0, 0, 0, 0, 1, 0, 4, 2],\n",
    "    [0, 0, 3, 2, 0, 0, 0, 5, 1],\n",
    "    [9, 0, 0, 0, 0, 0, 0, 0, 3],\n",
    "    [0, 0, 1, 0, 0, 0, 8, 0, 0],\n",
    "]\n",
    "sudoku = Sudoku(grid)\n",
    "solver = SudokuSolver(sudoku)\n",
    "first_solution = deepcopy(solver.solve())\n",
    "\n",
    "results = []\n",
    "sub_grids_to_check = list(new_grid[1])\n",
    "for x, i in enumerate(new_grid[1]):\n",
    "    grid = \"\"\n",
    "    for j in range(0, 81, 9):\n",
    "        grid += i[j : j + 9]\n",
    "        grid += \"\\n\"\n",
    "\n",
    "    sudoku = Sudoku(grid)\n",
    "    solver = SudokuSolver(sudoku)\n",
    "    # sol = solver.solve_recursive(ignore_solution=first_solution)\n",
    "    sol = solver.solve()\n",
    "    results.append((sudoku, sol is None))\n",
    "    # print(sudoku)\n"
   ]
  },
  {
   "cell_type": "code",
   "execution_count": 10,
   "metadata": {},
   "outputs": [
    {
     "name": "stdout",
     "output_type": "stream",
     "text": [
      "- 6 - - - - 4 - - \n",
      "- - - - - 6 - - - \n",
      "- - - 3 8 - - - 6 \n",
      "- 7 - 6 2 3 - - 8 \n",
      "1 - - 7 - 4 3 - - \n",
      "- - - - - 1 - 4 2 \n",
      "- - 3 2 - - - 5 1 \n",
      "9 - - - - - - - 3 \n",
      "- - 1 - - - 8 - - \n",
      "\n",
      "- 6 - - - - 4 - - \n",
      "- - - - - 6 - - - \n",
      "- - - 3 8 - - - - \n",
      "- 7 - 6 2 3 - - 8 \n",
      "1 - - 7 - 4 3 - - \n",
      "- - - - - 1 - 4 2 \n",
      "- - 3 2 - - - 5 1 \n",
      "9 - - - - - - - 3 \n",
      "- - 1 - - - 8 - - \n",
      "\n"
     ]
    }
   ],
   "source": [
    "results = [i[0] for i in results if i[1]]\n",
    "\n",
    "for i in results:\n",
    "    print(i)"
   ]
  },
  {
   "cell_type": "code",
   "execution_count": 5,
   "metadata": {},
   "outputs": [
    {
     "name": "stdout",
     "output_type": "stream",
     "text": [
      "None\n"
     ]
    }
   ],
   "source": [
    "from src.Sudoku import Sudoku\n",
    "from src.SudokuSolver import SudokuSolver\n",
    "\n",
    "grid = [\n",
    "    [0, 0, 0, 0, 0, 0, 0, 0, 0],\n",
    "    [0, 0, 7, 0, 0, 0, 9, 0, 0],\n",
    "    [0, 0, 9, 0, 0, 0, 0, 0, 0],\n",
    "    [0, 0, 0, 0, 7, 0, 6, 9, 0],\n",
    "    [0, 0, 0, 9, 0, 0, 0, 7, 8],\n",
    "    [0, 0, 0, 6, 0, 0, 2, 0, 0],\n",
    "    [8, 0, 2, 0, 0, 0, 5, 6, 0],\n",
    "    [0, 0, 1, 0, 0, 0, 0, 0, 0],\n",
    "    [0, 0, 5, 0, 0, 0, 0, 0, 0],\n",
    "]\n",
    "sudoku = Sudoku(grid)\n",
    "solver = SudokuSolver(sudoku)\n",
    "sol = solver.solve()\n",
    "print(sol)"
   ]
  },
  {
   "cell_type": "code",
   "execution_count": 18,
   "metadata": {},
   "outputs": [
    {
     "name": "stdout",
     "output_type": "stream",
     "text": [
      "-1 -1 -1 -1 -1 -1 -1 -1 -1 \n",
      "-1 -1 479 45 457 -1 159 -1 59 \n",
      "79 -1 479 -1 -1 57 259 29 -1 \n",
      "-1 -1 -1 -1 -1 -1 19 19 -1 \n",
      "-1 28 29 -1 59 -1 -1 -1 59 \n",
      "39 0 -1 -1 59 -1 -1 -1 -1 \n",
      "78 48 -1 -1 4679 789 69 -1 -1 \n",
      "78 -1 247 145 4567 578 26 27 -1 \n",
      "-1 25 -1 5 -1 579 -1 279 -1 \n",
      "######\n",
      "######\n",
      "######\n",
      "\n",
      "-1 -1 -1 -1 -1 -1 -1 -1 -1 \n",
      "-1 -1 7 4 7 -1 1 -1 9 \n",
      "9 -1 4 -1 -1 7 5 2 -1 \n",
      "-1 -1 -1 -1 -1 -1 9 1 -1 \n",
      "-1 8 9 -1 5 -1 -1 -1 5 \n",
      "3 0 -1 -1 9 -1 -1 -1 -1 \n",
      "7 4 -1 -1 6 8 9 -1 -1 \n",
      "8 -1 2 1 4 5 6 7 -1 \n",
      "-1 5 -1 5 -1 9 -1 2 -1 \n",
      "[7]\n"
     ]
    }
   ],
   "source": [
    "grid = \"\"\"568912437\n",
    "030006080\n",
    "010380006\n",
    "475623008\n",
    "100704360\n",
    "006801742\n",
    "003200051\n",
    "090000003\n",
    "601030804\"\"\"\n",
    "\n",
    "sudoku = Sudoku(grid)\n",
    "solver = SudokuSolver(sudoku)\n",
    "solver.grid_of_candidates[6][0]\n",
    "\n",
    "sudoku.set_cell(0, 1, 2)\n",
    "solver.update_grid_of_candidates(0, 1)\n",
    "for row in solver.grid_of_candidates:\n",
    "    for v in row:\n",
    "        if not v:\n",
    "            print(\"0 \", end=\"\")\n",
    "        else:\n",
    "            print(\"\".join([str(i) for i in v]), end=\" \")\n",
    "    print()\n",
    "print(\"######\\n\" *3)\n",
    "\n",
    "solver.apply_advance_rules()\n",
    "for row in solver.grid_of_candidates:\n",
    "    for v in row:\n",
    "        if not v:\n",
    "            print(\"0 \", end=\"\")\n",
    "        else:\n",
    "            print(\"\".join([str(i) for i in v]), end=\" \")\n",
    "    print()\n",
    "\n",
    "print(solver.grid_of_candidates[6][0])"
   ]
  },
  {
   "cell_type": "code",
   "execution_count": 44,
   "metadata": {},
   "outputs": [],
   "source": [
    "grid = [\n",
    "    [3, 6, 5, 0, 1, 0, 4, 0, 0],\n",
    "    [0, 9, 0, 0, 0, 6, 0, 0, 0],\n",
    "    [0, 0, 0, 3, 8, 0, 2, 0, 6],\n",
    "    [0, 7, 0, 6, 2, 3, 0, 0, 8],\n",
    "    [1, 0, 0, 7, 0, 4, 3, 0, 0],\n",
    "    [0, 0, 0, 0, 0, 1, 0, 4, 2],\n",
    "    [0, 0, 3, 2, 0, 0, 0, 5, 1],\n",
    "    [9, 0, 0, 0, 0, 0, 0, 0, 3],\n",
    "    [0, 0, 1, 0, 0, 0, 8, 0, 0],\n",
    "]\n",
    "sudoku = Sudoku(grid)\n",
    "solver = SudokuSolver(sudoku)\n"
   ]
  },
  {
   "cell_type": "code",
   "execution_count": 45,
   "metadata": {},
   "outputs": [],
   "source": [
    "result = deepcopy(solver.solve_recursive())\n",
    "sudoku.reset_sudoku()"
   ]
  },
  {
   "cell_type": "code",
   "execution_count": 10,
   "metadata": {},
   "outputs": [
    {
     "data": {
      "text/plain": [
       "False"
      ]
     },
     "execution_count": 10,
     "metadata": {},
     "output_type": "execute_result"
    }
   ],
   "source": [
    "v = []\n",
    "if v.empty()"
   ]
  },
  {
   "cell_type": "code",
   "execution_count": 47,
   "metadata": {},
   "outputs": [
    {
     "name": "stdout",
     "output_type": "stream",
     "text": [
      "3 6 5 - 1 - 4 - - \n",
      "- 9 - - - 6 - - - \n",
      "- - - 3 8 - 2 - 6 \n",
      "- 7 - 6 2 3 - - 8 \n",
      "1 - - 7 - 4 3 - - \n",
      "- - - - - 1 - 4 2 \n",
      "- - 3 2 - - - 5 1 \n",
      "9 - - - - - - - 3 \n",
      "- - 1 - - - 8 - - \n",
      "\n"
     ]
    }
   ],
   "source": [
    "print(sudoku)"
   ]
  },
  {
   "cell_type": "code",
   "execution_count": null,
   "metadata": {},
   "outputs": [],
   "source": [
    "\n",
    "\n",
    "\n"
   ]
  }
 ],
 "metadata": {
  "kernelspec": {
   "display_name": "Python 3",
   "language": "python",
   "name": "python3"
  },
  "language_info": {
   "codemirror_mode": {
    "name": "ipython",
    "version": 3
   },
   "file_extension": ".py",
   "mimetype": "text/x-python",
   "name": "python",
   "nbconvert_exporter": "python",
   "pygments_lexer": "ipython3",
   "version": "3.11.4"
  }
 },
 "nbformat": 4,
 "nbformat_minor": 2
}
