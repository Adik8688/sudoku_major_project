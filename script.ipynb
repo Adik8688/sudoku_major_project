{
 "cells": [
  {
   "cell_type": "code",
   "execution_count": 1,
   "metadata": {},
   "outputs": [],
   "source": [
    "from src.Sudoku import Sudoku\n",
    "from src.SudokuSolver import SudokuSolver\n",
    "\n",
    "grid = \"\"\"700036040\n",
    "        040100070\n",
    "        300000100\n",
    "        530000000\n",
    "        209640000\n",
    "        060970080\n",
    "        020704005\n",
    "        000008004\n",
    "        054069001\"\"\"\n",
    "\n",
    "grid1 = \"\"\"000801000\n",
    "    000000043\n",
    "    500000000\n",
    "    000070800\n",
    "    000000100\n",
    "    020030000\n",
    "    600000075\n",
    "    003400000\n",
    "    000200600\"\"\"\n",
    "\n",
    "sudoku = Sudoku(grid1)\n",
    "solver = SudokuSolver(sudoku)\n"
   ]
  },
  {
   "cell_type": "code",
   "execution_count": 2,
   "metadata": {},
   "outputs": [
    {
     "name": "stdout",
     "output_type": "stream",
     "text": [
      "(6, 5) n: 0, val: 4\n",
      "(1, 6) n: 1, val: 4\n",
      "(2, 6) n: 2, val: 2\n",
      "(6, 6) n: 3, val: 3\n",
      "(3, 1) n: 4, val: 7\n",
      "(3, 2) n: 5, val: 3\n",
      "(4, 4) n: 6, val: 8\n",
      "(3, 6) n: 7, val: 9\n",
      "(4, 6) n: 8, val: 1\n",
      "(5, 6) n: 9, val: 8\n",
      "(1, 7) n: 10, val: 5\n",
      "(4, 7) n: 11, val: 6\n",
      "(5, 7) n: 12, val: 7\n",
      "(4, 8) n: 13, val: 5\n",
      "(5, 1) n: 14, val: 5\n",
      "(6, 0) n: 15, val: 5\n",
      "(5, 2) n: 16, val: 6\n",
      "(6, 2) n: 17, val: 7\n",
      "(5, 5) n: 18, val: 9\n",
      "(5, 8) n: 19, val: 3\n",
      "(8, 8) n: 20, val: 4\n",
      "(4, 1) n: 21, val: 2\n",
      "(0, 0) n: 22, val: 2\n",
      "(1, 0) n: 23, val: 3\n",
      "(2, 0) n: 24, val: 7\n",
      "(4, 0) n: 25, val: 4\n",
      "(6, 1) n: 26, val: 9\n",
      "(7, 0) n: 27, val: 6\n",
      "Return None on n: 27\n",
      "Return None on n: 26\n",
      "Return None on n: 25\n",
      "Return None on n: 24\n",
      "Return None on n: 23\n",
      "Return None on n: 22\n",
      "(4, 1) n: 21, val: 9\n",
      "(6, 1) n: 22, val: 2\n",
      "(0, 0) n: 23, val: 2\n",
      "(1, 0) n: 24, val: 3\n",
      "(2, 0) n: 25, val: 7\n",
      "(4, 0) n: 26, val: 4\n",
      "(1, 2) n: 27, val: 9\n",
      "(2, 2) n: 28, val: 4\n",
      "(4, 2) n: 29, val: 2\n",
      "(6, 7) n: 30, val: 9\n",
      "(7, 0) n: 31, val: 6\n",
      "(8, 0) n: 32, val: 9\n",
      "(7, 5) n: 33, val: 5\n",
      "(0, 1) n: 34, val: 1\n",
      "(0, 7) n: 35, val: 8\n",
      "(1, 1) n: 36, val: 8\n",
      "(2, 1) n: 37, val: 6\n",
      "(7, 2) n: 38, val: 1\n",
      "(8, 2) n: 39, val: 8\n",
      "(8, 3) n: 40, val: 2\n",
      "(0, 3) n: 41, val: 3\n",
      "(1, 3) n: 42, val: 1\n",
      "(2, 3) n: 43, val: 5\n",
      "(3, 3) n: 44, val: 6\n",
      "(5, 3) n: 45, val: 4\n",
      "(7, 3) n: 46, val: 9\n",
      "(0, 4) n: 47, val: 4\n",
      "(1, 4) n: 48, val: 6\n",
      "(2, 4) n: 49, val: 9\n",
      "(3, 4) n: 50, val: 5\n",
      "(5, 4) n: 51, val: 2\n",
      "(7, 4) n: 52, val: 3\n",
      "(8, 4) n: 53, val: 7\n",
      "(0, 5) n: 54, val: 7\n",
      "(2, 5) n: 55, val: 8\n",
      "(3, 5) n: 56, val: 1\n",
      "(8, 5) n: 57, val: 6\n",
      "(7, 7) n: 58, val: 2\n",
      "(8, 7) n: 59, val: 1\n",
      "(0, 8) n: 60, val: 9\n",
      "(1, 8) n: 61, val: 7\n",
      "(2, 8) n: 62, val: 1\n",
      "(7, 8) n: 63, val: 8\n"
     ]
    }
   ],
   "source": [
    "solved_sudoku = solver.solve()"
   ]
  },
  {
   "cell_type": "code",
   "execution_count": 3,
   "metadata": {},
   "outputs": [
    {
     "name": "stdout",
     "output_type": "stream",
     "text": [
      "2 3 7 8 4 1 5 6 9\n",
      "1 8 6 7 9 5 2 4 3\n",
      "5 9 4 3 2 6 7 1 8\n",
      "3 1 5 6 7 4 8 9 2\n",
      "4 6 9 5 8 2 1 3 7\n",
      "7 2 8 1 3 9 4 5 6\n",
      "6 4 2 9 1 8 3 7 5\n",
      "8 5 3 4 6 7 9 2 1\n",
      "9 7 1 2 5 3 6 8 4\n",
      "\n"
     ]
    }
   ],
   "source": [
    "print(solved_sudoku)"
   ]
  },
  {
   "cell_type": "markdown",
   "metadata": {},
   "source": [
    "# Playground"
   ]
  },
  {
   "cell_type": "code",
   "execution_count": null,
   "metadata": {},
   "outputs": [],
   "source": [
    "from collections import defaultdict \n",
    "\n",
    "def get_distribution(values: list):\n",
    "    distribution = defaultdict(int)\n",
    "\n",
    "    for sublist in values:\n",
    "        if sublist == [-1]:\n",
    "            continue\n",
    "        for value in sublist:\n",
    "            distribution[value] += 1\n",
    "    \n",
    "    distribution[-1] = 0\n",
    "\n",
    "    return dict(sorted(distribution.items()))"
   ]
  },
  {
   "cell_type": "code",
   "execution_count": null,
   "metadata": {},
   "outputs": [],
   "source": [
    "def filter_out_naked_singles(x_coords: list, y_coords: int = 0):\n",
    "    values = [candidates[x] for x in x_coords]\n",
    "    distribution = get_distribution(values)\n",
    "\n",
    "    for x in x_coords:\n",
    "        for i in candidates[x]:\n",
    "            if distribution[i] == 1:\n",
    "                candidates[x] = [i]\n",
    "                break\n",
    "    \n",
    "    \n"
   ]
  },
  {
   "cell_type": "code",
   "execution_count": null,
   "metadata": {},
   "outputs": [],
   "source": [
    "filter_out_naked_singles(list(range(9)))"
   ]
  },
  {
   "cell_type": "code",
   "execution_count": null,
   "metadata": {},
   "outputs": [],
   "source": [
    "candidates = [[1,2,4], [-1], [-1], [-1], [2,3], [5,6], [5,6], [1,2], [1,2]]"
   ]
  },
  {
   "cell_type": "code",
   "execution_count": null,
   "metadata": {},
   "outputs": [],
   "source": [
    "sudoku = Sudoku(grid)\n",
    "solver = SudokuSolver(sudoku)\n",
    "solver.get_indexes_per_candidate(candidates)"
   ]
  },
  {
   "cell_type": "code",
   "execution_count": null,
   "metadata": {},
   "outputs": [],
   "source": [
    "from copy import deepcopy\n",
    "\n",
    "grid_before = deepcopy(solver.grid_of_candidates)"
   ]
  },
  {
   "cell_type": "code",
   "execution_count": null,
   "metadata": {},
   "outputs": [],
   "source": [
    "solver.apply_advance_rules()"
   ]
  },
  {
   "cell_type": "code",
   "execution_count": null,
   "metadata": {},
   "outputs": [],
   "source": [
    "grid_after = solver.grid_of_candidates"
   ]
  },
  {
   "cell_type": "code",
   "execution_count": null,
   "metadata": {},
   "outputs": [],
   "source": [
    "grid_before == grid_after"
   ]
  },
  {
   "cell_type": "code",
   "execution_count": null,
   "metadata": {},
   "outputs": [],
   "source": [
    "for y in range(9):\n",
    "    for x in range(9):\n",
    "        if grid_before[y][x] != grid_after[y][x]:\n",
    "            print(f\"({x}, {y}) {grid_before[y][x]} -> {grid_after[y][x]}\")"
   ]
  },
  {
   "cell_type": "code",
   "execution_count": 5,
   "metadata": {},
   "outputs": [],
   "source": [
    "lst = [list(range(1,10)) for _ in range(9)]"
   ]
  },
  {
   "cell_type": "code",
   "execution_count": 10,
   "metadata": {},
   "outputs": [
    {
     "data": {
      "text/plain": [
       "True"
      ]
     },
     "execution_count": 10,
     "metadata": {},
     "output_type": "execute_result"
    }
   ],
   "source": [
    "import numpy as np\n",
    "\n",
    "arr = np.array(lst)\n",
    "arr.shape == (9,9)"
   ]
  },
  {
   "cell_type": "code",
   "execution_count": 71,
   "metadata": {},
   "outputs": [],
   "source": [
    "import numpy as np\n",
    "\n",
    "grid = [\n",
    "        [1, 7, 8, 6, 5, 9, 2, 3, 4],\n",
    "        [9, 3, 4, 8, 2, 1, 6, 5, 7],\n",
    "        [6, 2, 5, 3, 7, 4, 1, 9, 8],\n",
    "        [4, 6, 1, 9, 8, 2, 3, 7, 5],\n",
    "        [7, 9, 3, 5, 1, 6, 8, 4, 2],\n",
    "        [5, 8, 2, 7, 4, 3, 9, 1, 6],\n",
    "        [3, 1, 7, 4, 6, 8, 5, 2, 9],\n",
    "        [2, 5, 6, 1, 9, 7, 4, 8, 3],\n",
    "        [8, 4, 9, 2, 3, 5, 7, 6, 1],\n",
    "    ]\n",
    "\n",
    "grid = np.array(grid)\n",
    "\n",
    "col_correct = np.sort(grid, axis=0)\n"
   ]
  },
  {
   "cell_type": "code",
   "execution_count": 74,
   "metadata": {},
   "outputs": [],
   "source": [
    "result = np.all(col_correct == np.arange(1,10)[:, None], axis=1)"
   ]
  },
  {
   "cell_type": "code",
   "execution_count": 75,
   "metadata": {},
   "outputs": [
    {
     "data": {
      "text/plain": [
       "array([[1, 1, 1, 1, 1, 1, 1, 1, 1],\n",
       "       [2, 2, 2, 2, 2, 2, 2, 2, 2],\n",
       "       [3, 3, 3, 3, 3, 3, 3, 3, 3],\n",
       "       [4, 4, 4, 4, 4, 4, 4, 4, 4],\n",
       "       [5, 5, 5, 5, 5, 5, 5, 5, 5],\n",
       "       [6, 6, 6, 6, 6, 6, 6, 6, 6],\n",
       "       [7, 7, 7, 7, 7, 7, 7, 7, 7],\n",
       "       [8, 8, 8, 8, 8, 8, 8, 8, 8],\n",
       "       [9, 9, 9, 9, 9, 9, 9, 9, 9]])"
      ]
     },
     "execution_count": 75,
     "metadata": {},
     "output_type": "execute_result"
    }
   ],
   "source": [
    "col_correct"
   ]
  },
  {
   "cell_type": "code",
   "execution_count": 76,
   "metadata": {},
   "outputs": [
    {
     "data": {
      "text/plain": [
       "array([ True,  True,  True,  True,  True,  True,  True,  True,  True])"
      ]
     },
     "execution_count": 76,
     "metadata": {},
     "output_type": "execute_result"
    }
   ],
   "source": [
    "result"
   ]
  },
  {
   "cell_type": "code",
   "execution_count": 1,
   "metadata": {},
   "outputs": [],
   "source": [
    "grid = [[0] * 9 for _ in range(9)]"
   ]
  },
  {
   "cell_type": "code",
   "execution_count": 2,
   "metadata": {},
   "outputs": [
    {
     "data": {
      "text/plain": [
       "[[0, 0, 0, 0, 0, 0, 0, 0, 0],\n",
       " [0, 0, 0, 0, 0, 0, 0, 0, 0],\n",
       " [0, 0, 0, 0, 0, 0, 0, 0, 0],\n",
       " [0, 0, 0, 0, 0, 0, 0, 0, 0],\n",
       " [0, 0, 0, 0, 0, 0, 0, 0, 0],\n",
       " [0, 0, 0, 0, 0, 0, 0, 0, 0],\n",
       " [0, 0, 0, 0, 0, 0, 0, 0, 0],\n",
       " [0, 0, 0, 0, 0, 0, 0, 0, 0],\n",
       " [0, 0, 0, 0, 0, 0, 0, 0, 0]]"
      ]
     },
     "execution_count": 2,
     "metadata": {},
     "output_type": "execute_result"
    }
   ],
   "source": [
    "grid"
   ]
  },
  {
   "cell_type": "code",
   "execution_count": 5,
   "metadata": {},
   "outputs": [
    {
     "data": {
      "text/plain": [
       "36"
      ]
     },
     "execution_count": 5,
     "metadata": {},
     "output_type": "execute_result"
    }
   ],
   "source": [
    "import numpy as np\n",
    "\n",
    "np.random.randint(10, 50)"
   ]
  },
  {
   "cell_type": "code",
   "execution_count": 7,
   "metadata": {},
   "outputs": [],
   "source": [
    "arr = np.arange(1, 10)"
   ]
  },
  {
   "cell_type": "code",
   "execution_count": 10,
   "metadata": {},
   "outputs": [
    {
     "data": {
      "text/plain": [
       "array([1, 2, 3, 4, 5, 6, 7, 8, 9])"
      ]
     },
     "execution_count": 10,
     "metadata": {},
     "output_type": "execute_result"
    }
   ],
   "source": [
    "arr[:10]"
   ]
  },
  {
   "cell_type": "code",
   "execution_count": 1,
   "metadata": {},
   "outputs": [],
   "source": [
    "from src.Sudoku import Sudoku\n",
    "from src.SudokuScrambler import SudokuScrambler\n",
    "\n",
    "grid = [\n",
    "        [5, 3, 4, 6, 7, 8, 9, 1, 2],\n",
    "        [6, 7, 2, 1, 9, 5, 3, 4, 8],\n",
    "        [1, 9, 8, 3, 4, 2, 5, 6, 7],\n",
    "        [8, 5, 9, 7, 6, 1, 4, 2, 3],\n",
    "        [4, 2, 6, 8, 5, 3, 7, 9, 1],\n",
    "        [7, 1, 3, 9, 2, 4, 8, 5, 6],\n",
    "        [9, 6, 1, 5, 3, 7, 2, 8, 4],\n",
    "        [2, 8, 7, 4, 1, 9, 6, 3, 5],\n",
    "        [3, 4, 5, 2, 8, 6, 1, 7, 9],\n",
    "    ]\n",
    "\n",
    "sudoku = Sudoku(grid)"
   ]
  },
  {
   "cell_type": "code",
   "execution_count": 2,
   "metadata": {},
   "outputs": [],
   "source": [
    "scrambler = SudokuScrambler(sudoku)\n",
    "scrambler.scramble()"
   ]
  },
  {
   "cell_type": "code",
   "execution_count": 3,
   "metadata": {},
   "outputs": [
    {
     "name": "stdout",
     "output_type": "stream",
     "text": [
      "2 3 7 5 8 4 1 9 6\n",
      "5 2 4 - - 6 8 3 1\n",
      "1 8 3 - 6 5 9 7 4\n",
      "- 4 1 6 7 3 5 2 9\n",
      "7 9 5 4 3 8 - 1 -\n",
      "9 7 6 8 4 1 - 5 3\n",
      "6 1 8 - 2 9 7 4 5\n",
      "4 6 9 1 5 2 3 8 7\n",
      "3 5 2 9 1 7 4 6 -\n",
      "\n"
     ]
    }
   ],
   "source": [
    "print(sudoku)"
   ]
  },
  {
   "cell_type": "code",
   "execution_count": 4,
   "metadata": {},
   "outputs": [],
   "source": [
    "from src.SudokuAnalyzer import SudokuAnalyzer\n",
    "\n",
    "analyzer = SudokuAnalyzer(sudoku)\n",
    "c1 = analyzer.get_sum_of_candidates()"
   ]
  },
  {
   "cell_type": "code",
   "execution_count": 5,
   "metadata": {},
   "outputs": [
    {
     "data": {
      "text/plain": [
       "(6, 72, 3.16)"
      ]
     },
     "execution_count": 5,
     "metadata": {},
     "output_type": "execute_result"
    }
   ],
   "source": [
    "analyzer.get_sudoku_description()"
   ]
  },
  {
   "cell_type": "code",
   "execution_count": 6,
   "metadata": {},
   "outputs": [
    {
     "data": {
      "text/plain": [
       "[[[-1], [-1], [-1], [-1], [-1], [-1], [-1], [-1], [-1]],\n",
       " [[-1], [-1], [-1], [7], [9], [-1], [-1], [-1], [-1]],\n",
       " [[-1], [-1], [-1], [2], [-1], [-1], [-1], [-1], [-1]],\n",
       " [[8], [-1], [-1], [-1], [-1], [-1], [-1], [-1], [-1]],\n",
       " [[-1], [-1], [-1], [-1], [-1], [-1], [6], [-1], []],\n",
       " [[-1], [-1], [-1], [-1], [-1], [-1], [], [-1], [-1]],\n",
       " [[-1], [-1], [-1], [3], [-1], [-1], [-1], [-1], [-1]],\n",
       " [[-1], [-1], [-1], [-1], [-1], [-1], [-1], [-1], [-1]],\n",
       " [[-1], [-1], [-1], [-1], [-1], [-1], [-1], [-1], []]]"
      ]
     },
     "execution_count": 6,
     "metadata": {},
     "output_type": "execute_result"
    }
   ],
   "source": [
    "from src.SudokuSolver import SudokuSolver\n",
    "\n",
    "solver = SudokuSolver(sudoku)\n",
    "solver.grid_of_candidates"
   ]
  },
  {
   "cell_type": "code",
   "execution_count": 7,
   "metadata": {},
   "outputs": [],
   "source": [
    "result = 0\n",
    "for row in solver.grid_of_candidates:\n",
    "    for i in row:\n",
    "        if i != [-1]:\n",
    "            result += len(i)"
   ]
  },
  {
   "cell_type": "code",
   "execution_count": 8,
   "metadata": {},
   "outputs": [],
   "source": [
    "solver.solve()"
   ]
  },
  {
   "cell_type": "code",
   "execution_count": 9,
   "metadata": {},
   "outputs": [
    {
     "data": {
      "text/plain": [
       "array([[2, 3, 7, 5, 8, 4, 1, 9, 6],\n",
       "       [5, 2, 4, 0, 0, 6, 8, 3, 1],\n",
       "       [1, 8, 3, 0, 6, 5, 9, 7, 4],\n",
       "       [0, 4, 1, 6, 7, 3, 5, 2, 9],\n",
       "       [7, 9, 5, 4, 3, 8, 0, 1, 0],\n",
       "       [9, 7, 6, 8, 4, 1, 0, 5, 3],\n",
       "       [6, 1, 8, 0, 2, 9, 7, 4, 5],\n",
       "       [4, 6, 9, 1, 5, 2, 3, 8, 7],\n",
       "       [3, 5, 2, 9, 1, 7, 4, 6, 0]])"
      ]
     },
     "execution_count": 9,
     "metadata": {},
     "output_type": "execute_result"
    }
   ],
   "source": [
    "sudoku.grid"
   ]
  },
  {
   "cell_type": "code",
   "execution_count": 14,
   "metadata": {},
   "outputs": [
    {
     "data": {
      "text/plain": [
       "[0, 1, 2, 4, 5, 3, 6, 8, 7]"
      ]
     },
     "execution_count": 14,
     "metadata": {},
     "output_type": "execute_result"
    }
   ],
   "source": [
    "import numpy as np\n",
    "\n",
    "new_order = []\n",
    "for i in range(0, 9, 3):\n",
    "    sub_order = np.arange(0, 3)\n",
    "    sub_order = np.random.permutation(sub_order)\n",
    "    sub_order += i\n",
    "    new_order += list(sub_order)\n",
    "\n",
    "\n",
    "new_order"
   ]
  },
  {
   "cell_type": "code",
   "execution_count": 1,
   "metadata": {},
   "outputs": [
    {
     "name": "stderr",
     "output_type": "stream",
     "text": [
      "C:\\Users\\adria\\AppData\\Local\\Temp\\ipykernel_27100\\1849714769.py:1: DeprecationWarning: \n",
      "Pyarrow will become a required dependency of pandas in the next major release of pandas (pandas 3.0),\n",
      "(to allow more performant data types, such as the Arrow string type, and better interoperability with other libraries)\n",
      "but was not found to be installed on your system.\n",
      "If this would cause problems for you,\n",
      "please provide us feedback at https://github.com/pandas-dev/pandas/issues/54466\n",
      "        \n",
      "  import pandas as pd\n"
     ]
    },
    {
     "data": {
      "text/plain": [
       "sum_of_candidates           0.946929\n",
       "number_of_initial_values   -0.999168\n",
       "initial_numbers_entropy    -0.763565\n",
       "Name: numbers_of_steps_to_solve, dtype: float64"
      ]
     },
     "execution_count": 1,
     "metadata": {},
     "output_type": "execute_result"
    }
   ],
   "source": [
    "import pandas as pd\n",
    "import numpy as np\n",
    "\n",
    "df = pd.read_csv(\"output.txt\", sep=\";\")\n",
    "\n",
    "correlation_matrix = df.corr()\n",
    "corr_with_steps = correlation_matrix.iloc[-1][:-1]\n",
    "\n",
    "corr_with_steps"
   ]
  },
  {
   "cell_type": "markdown",
   "metadata": {},
   "source": [
    "# Plot\n"
   ]
  },
  {
   "cell_type": "code",
   "execution_count": 2,
   "metadata": {},
   "outputs": [
    {
     "data": {
      "image/png": "[encoded data removed]",
      "text/plain": [
       "<Figure size 1800x500 with 3 Axes>"
      ]
     },
     "metadata": {},
     "output_type": "display_data"
    }
   ],
   "source": [
    "import matplotlib.pyplot as plt\n",
    "\n",
    "plt.figure(figsize=(18, 5))\n",
    "\n",
    "# List of column names for plotting\n",
    "columns = ['sum_of_candidates', 'number_of_initial_values', 'initial_numbers_entropy']\n",
    "\n",
    "for i, column in enumerate(columns, 1):\n",
    "    x = df['numbers_of_steps_to_solve']\n",
    "    y = df[column]\n",
    "    \n",
    "    # Scatter plot\n",
    "    plt.subplot(1, 3, i)\n",
    "    plt.scatter(x, y, label='Data')\n",
    "    \n",
    "    # Fit and plot trend line\n",
    "    z = np.polyfit(x, y, 1)\n",
    "    p = np.poly1d(z)\n",
    "    plt.plot(x, p(x), \"r--\", label='Trend line')  # \"r--\" is for red dashed line\n",
    "    \n",
    "    plt.title(f'numbers_of_steps_to_solve vs {column}')\n",
    "    plt.xlabel('numbers_of_steps_to_solve')\n",
    "    plt.ylabel(column)\n",
    "\n",
    "plt.tight_layout()\n",
    "plt.legend()\n",
    "plt.show()"
   ]
  },
  {
   "cell_type": "code",
   "execution_count": null,
   "metadata": {},
   "outputs": [],
   "source": []
  }
 ],
 "metadata": {
  "kernelspec": {
   "display_name": "Python 3",
   "language": "python",
   "name": "python3"
  },
  "language_info": {
   "codemirror_mode": {
    "name": "ipython",
    "version": 3
   },
   "file_extension": ".py",
   "mimetype": "text/x-python",
   "name": "python",
   "nbconvert_exporter": "python",
   "pygments_lexer": "ipython3",
   "version": "3.11.4"
  }
 },
 "nbformat": 4,
 "nbformat_minor": 2
}
