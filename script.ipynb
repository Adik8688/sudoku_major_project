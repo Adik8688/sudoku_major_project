{
 "cells": [
  {
   "cell_type": "markdown",
   "metadata": {},
   "source": [
    "# Playground"
   ]
  },
  {
   "cell_type": "markdown",
   "metadata": {},
   "source": [
    "# Numba"
   ]
  },
  {
   "cell_type": "code",
   "execution_count": null,
   "metadata": {},
   "outputs": [],
   "source": [
    "from src.Sudoku import Sudoku\n",
    "import numpy as np\n",
    "\n",
    "\n",
    "grid1 = \"\"\"000801000\n",
    "    000000043\n",
    "    500000000\n",
    "    000070800\n",
    "    000000100\n",
    "    020030000\n",
    "    600000075\n",
    "    003400000\n",
    "    000200600\"\"\"\n",
    "\n",
    "sudoku = Sudoku(grid1)\n"
   ]
  },
  {
   "cell_type": "code",
   "execution_count": null,
   "metadata": {},
   "outputs": [],
   "source": [
    "from numba import jit, prange\n",
    "\n",
    "def calculate_candidates(sudoku):\n",
    "\n",
    "    candidates = np.zeros([9, 9]) \n",
    "\n",
    "    for y in range(9):\n",
    "        for x in range(9):\n",
    "            if sudoku.get_cell(x, y) != 0:\n",
    "                candidates[y][x] = 0\n",
    "                continue\n",
    "\n",
    "            row = sudoku.get_row(y)\n",
    "            col = sudoku.get_col(x)\n",
    "            sq_index = x // 3 + 3 * (y // 3)\n",
    "            sq = sudoku.get_square(sq_index)\n",
    "            invalid_numbers = np.concatenate((row, col, sq.flatten()))\n",
    "            valid_numbers = np.setdiff1d(np.arange(1, 10), invalid_numbers)\n",
    "            candidates[y][x] = len(valid_numbers)\n",
    "\n",
    "    return candidates\n",
    "\n",
    "\n",
    "@jit(nopython=True)\n",
    "def custom_setdiff1d(ar1, ar2):\n",
    "    # Create an empty list to hold the result\n",
    "    result = []\n",
    "    \n",
    "    # Convert ar2 to a set for faster lookup\n",
    "    ar2_set = set(ar2)\n",
    "    \n",
    "    # Add elements to result that are in ar1 but not in ar2\n",
    "    for item in ar1:\n",
    "        if item not in ar2_set:\n",
    "            result.append(item)\n",
    "    \n",
    "    return np.array(result)\n",
    "\n",
    "@jit(nopython=True, parallel=True)\n",
    "def calculate_candidates_2(grid: np.array):\n",
    "\n",
    "    candidates = np.zeros((9, 9, 9), dtype=np.bool_)\n",
    "\n",
    "    for y in prange(9):\n",
    "        for x in prange(9):\n",
    "            if grid[y, x] != 0:\n",
    "                continue\n",
    "\n",
    "            row = grid[y, :]\n",
    "            col = grid[:, x]\n",
    "            y0 = (y // 3) * 3\n",
    "            x0 = (x // 3) * 3\n",
    "            sq = grid[y0 : y0 + 3, x0 : x0 + 3]\n",
    "            invalid_numbers = np.concatenate((row, col, sq.flatten()))\n",
    "            valid_numbers = custom_setdiff1d(np.arange(1, 10), invalid_numbers)\n",
    "            candidates[y, x, valid_numbers - 1] = 1\n",
    "\n",
    "    return candidates\n"
   ]
  },
  {
   "cell_type": "code",
   "execution_count": null,
   "metadata": {},
   "outputs": [
    {
     "name": "stdout",
     "output_type": "stream",
     "text": [
      "Time: 54.25662636756897\n"
     ]
    }
   ],
   "source": [
    "import time\n",
    "\n",
    "start_time = time.time()\n",
    "\n",
    "for _ in range(1000000):\n",
    "    c = calculate_candidates_2(sudoku.grid)\n",
    "\n",
    "end_time = time.time()\n",
    "\n",
    "print(f\"Time: {end_time - start_time}\")\n"
   ]
  },
  {
   "cell_type": "code",
   "execution_count": null,
   "metadata": {},
   "outputs": [],
   "source": [
    "def decode_candidates(c):\n",
    "    candidates = []\n",
    "    for row in c:\n",
    "        new_row = []\n",
    "        for elem in row:\n",
    "            new_row.append([i + 1 for i, e in enumerate(elem) if e])\n",
    "        candidates.append(new_row)\n",
    "    \n",
    "    return candidates\n",
    "\n",
    "            "
   ]
  },
  {
   "cell_type": "code",
   "execution_count": null,
   "metadata": {},
   "outputs": [
    {
     "name": "stdout",
     "output_type": "stream",
     "text": [
      "- - - 8 - 1 - - -\n",
      "- - - - - - - 4 3\n",
      "5 - - - - - - - -\n",
      "- - - - 7 - 8 - -\n",
      "- - - - - - 1 - -\n",
      "- 2 - - 3 - - - -\n",
      "6 - - - - - - 7 5\n",
      "- - 3 4 - - - - -\n",
      "- - - 2 - - 6 - -\n",
      "\n"
     ]
    }
   ],
   "source": [
    "print(sudoku)"
   ]
  },
  {
   "cell_type": "code",
   "execution_count": null,
   "metadata": {},
   "outputs": [
    {
     "data": {
      "text/plain": [
       "[[[2, 3, 4, 7, 9],\n",
       "  [3, 4, 6, 7, 9],\n",
       "  [2, 4, 6, 7, 9],\n",
       "  [],\n",
       "  [2, 4, 5, 6, 9],\n",
       "  [],\n",
       "  [2, 5, 7, 9],\n",
       "  [2, 5, 6, 9],\n",
       "  [2, 6, 7, 9]],\n",
       " [[1, 2, 7, 8, 9],\n",
       "  [1, 6, 7, 8, 9],\n",
       "  [1, 2, 6, 7, 8, 9],\n",
       "  [5, 6, 7, 9],\n",
       "  [2, 5, 6, 9],\n",
       "  [2, 5, 6, 7, 9],\n",
       "  [2, 5, 7, 9],\n",
       "  [],\n",
       "  []],\n",
       " [[],\n",
       "  [1, 3, 4, 6, 7, 8, 9],\n",
       "  [1, 2, 4, 6, 7, 8, 9],\n",
       "  [3, 6, 7, 9],\n",
       "  [2, 4, 6, 9],\n",
       "  [2, 3, 4, 6, 7, 9],\n",
       "  [2, 7, 9],\n",
       "  [1, 2, 6, 8, 9],\n",
       "  [1, 2, 6, 7, 8, 9]],\n",
       " [[1, 3, 4, 9],\n",
       "  [1, 3, 4, 5, 6, 9],\n",
       "  [1, 4, 5, 6, 9],\n",
       "  [1, 5, 6, 9],\n",
       "  [],\n",
       "  [2, 4, 5, 6, 9],\n",
       "  [],\n",
       "  [2, 3, 5, 6, 9],\n",
       "  [2, 4, 6, 9]],\n",
       " [[3, 4, 7, 8, 9],\n",
       "  [3, 4, 5, 6, 7, 8, 9],\n",
       "  [4, 5, 6, 7, 8, 9],\n",
       "  [5, 6, 9],\n",
       "  [2, 4, 5, 6, 8, 9],\n",
       "  [2, 4, 5, 6, 8, 9],\n",
       "  [],\n",
       "  [2, 3, 5, 6, 9],\n",
       "  [2, 4, 6, 7, 9]],\n",
       " [[1, 4, 7, 8, 9],\n",
       "  [],\n",
       "  [1, 4, 5, 6, 7, 8, 9],\n",
       "  [1, 5, 6, 9],\n",
       "  [],\n",
       "  [4, 5, 6, 8, 9],\n",
       "  [4, 5, 7, 9],\n",
       "  [5, 6, 9],\n",
       "  [4, 6, 7, 9]],\n",
       " [[],\n",
       "  [1, 4, 8, 9],\n",
       "  [1, 2, 4, 8, 9],\n",
       "  [1, 3, 9],\n",
       "  [1, 8, 9],\n",
       "  [3, 8, 9],\n",
       "  [2, 3, 4, 9],\n",
       "  [],\n",
       "  []],\n",
       " [[1, 2, 7, 8, 9],\n",
       "  [1, 5, 7, 8, 9],\n",
       "  [],\n",
       "  [],\n",
       "  [1, 5, 6, 8, 9],\n",
       "  [5, 6, 7, 8, 9],\n",
       "  [2, 9],\n",
       "  [1, 2, 8, 9],\n",
       "  [1, 2, 8, 9]],\n",
       " [[1, 4, 7, 8, 9],\n",
       "  [1, 4, 5, 7, 8, 9],\n",
       "  [1, 4, 5, 7, 8, 9],\n",
       "  [],\n",
       "  [1, 5, 8, 9],\n",
       "  [3, 5, 7, 8, 9],\n",
       "  [],\n",
       "  [1, 3, 8, 9],\n",
       "  [1, 4, 8, 9]]]"
      ]
     },
     "execution_count": 127,
     "metadata": {},
     "output_type": "execute_result"
    }
   ],
   "source": [
    "decode_candidates(c)"
   ]
  },
  {
   "cell_type": "markdown",
   "metadata": {},
   "source": [
    "# The hardest grid"
   ]
  },
  {
   "cell_type": "code",
   "execution_count": 1,
   "metadata": {},
   "outputs": [],
   "source": [
    "grid = [\n",
    "  [9, 0, 0, 0, 8, 0, 0, 0, 5],\n",
    "  [0, 0, 0, 0, 0, 0, 0, 0, 6],\n",
    "  [0, 0, 0, 0, 0, 0, 0, 0, 7],\n",
    "  [0, 8, 0, 0, 0, 5, 0, 0, 4],\n",
    "  [0, 0, 0, 0, 0, 0, 0, 0, 0],\n",
    "  [1, 0, 0, 4, 0, 2, 3, 0, 0],\n",
    "  [0, 0, 0, 0, 0, 0, 0, 0, 0],\n",
    "  [0, 1, 3, 0, 0, 0, 0, 0, 2],\n",
    "  [2, 0, 0, 0, 0, 9, 0, 8, 3]\n",
    "]"
   ]
  },
  {
   "cell_type": "code",
   "execution_count": 5,
   "metadata": {},
   "outputs": [],
   "source": [
    "from src.Sudoku import Sudoku\n",
    "from src.SudokuAnalyzer import SudokuAnalyzer\n",
    "from src.SudokuScrambler import SudokuScrambler\n",
    "from src.SudokuSolver import SudokuSolver\n",
    "\n",
    "sudoku = Sudoku(grid)"
   ]
  },
  {
   "cell_type": "code",
   "execution_count": 3,
   "metadata": {},
   "outputs": [],
   "source": [
    "analyzer = SudokuAnalyzer(sudoku)\n",
    "features = analyzer.get_sudoku_description()"
   ]
  },
  {
   "cell_type": "code",
   "execution_count": 4,
   "metadata": {},
   "outputs": [
    {
     "name": "stderr",
     "output_type": "stream",
     "text": [
      "c:\\Users\\adria\\AppData\\Local\\Programs\\Python\\Python311\\Lib\\site-packages\\sklearn\\base.py:493: UserWarning: X does not have valid feature names, but LinearRegression was fitted with feature names\n",
      "  warnings.warn(\n"
     ]
    },
    {
     "data": {
      "text/plain": [
       "64.45012533877562"
      ]
     },
     "execution_count": 4,
     "metadata": {},
     "output_type": "execute_result"
    }
   ],
   "source": [
    "from joblib import load\n",
    "import numpy as np\n",
    "\n",
    "model = load(\"sudoku_model.joblib\")\n",
    "model.predict([features])[0]"
   ]
  },
  {
   "cell_type": "code",
   "execution_count": 1,
   "metadata": {},
   "outputs": [],
   "source": [
    "grid = [[6, 4, 0, 0, 9, 0, 0, 1, 2],\n",
    " [0, 5, 1, 0, 3, 0, 0, 6, 0],\n",
    " [8, 0, 0, 0, 0, 0, 7, 0, 0],\n",
    " [4, 0, 0, 0, 2, 1, 0, 0, 0],\n",
    " [0, 9, 8, 6, 0, 3, 0, 0, 0],\n",
    " [1, 0, 2, 0, 0, 0, 6, 0, 3],\n",
    " [0, 0, 0, 0, 0, 0, 0, 0, 7],\n",
    " [0, 0, 7, 0, 0, 6, 0, 0, 4],\n",
    " [3, 0, 0, 0, 0, 7, 9, 8, 6]]"
   ]
  },
  {
   "cell_type": "code",
   "execution_count": 2,
   "metadata": {},
   "outputs": [],
   "source": [
    "non_zeros = []\n",
    "for y in range(9):\n",
    "    for x in range(9):\n",
    "        if grid[y][x]:\n",
    "            non_zeros.append((x, y))\n"
   ]
  },
  {
   "cell_type": "code",
   "execution_count": 11,
   "metadata": {},
   "outputs": [
    {
     "name": "stdout",
     "output_type": "stream",
     "text": [
      "Nope\n",
      "Nope\n",
      "Nope\n",
      "7 0\n",
      "6 4 - - 9 - - - 2 \n",
      "- 5 1 - 3 - - 6 - \n",
      "8 - - - - - 7 - - \n",
      "4 - - - 2 1 - - - \n",
      "- 9 8 6 - 3 - - - \n",
      "1 - 2 - - - 6 - 3 \n",
      "- - - - - - - - 7 \n",
      "- - 7 - - 6 - - 4 \n",
      "3 - - - - 7 9 8 6 \n",
      "\n"
     ]
    }
   ],
   "source": [
    "from copy import deepcopy\n",
    "\n",
    "for x, y in non_zeros:\n",
    "    tmp, grid[y][x] = grid[y][x], 0\n",
    "    sudoku = Sudoku(tmp_grid)\n",
    "    solver = SudokuSolver(sudoku)\n",
    "    result = solver.solve()\n",
    "    if result is not None:\n",
    "        print(x, y)\n",
    "        print(Sudoku(tmp_grid))\n",
    "        grid = deepcopy(tmp_grid)\n",
    "    print(\"Nope\")"
   ]
  },
  {
   "cell_type": "code",
   "execution_count": null,
   "metadata": {},
   "outputs": [],
   "source": []
  }
 ],
 "metadata": {
  "kernelspec": {
   "display_name": "Python 3",
   "language": "python",
   "name": "python3"
  },
  "language_info": {
   "codemirror_mode": {
    "name": "ipython",
    "version": 3
   },
   "file_extension": ".py",
   "mimetype": "text/x-python",
   "name": "python",
   "nbconvert_exporter": "python",
   "pygments_lexer": "ipython3",
   "version": "3.11.4"
  }
 },
 "nbformat": 4,
 "nbformat_minor": 2
}
