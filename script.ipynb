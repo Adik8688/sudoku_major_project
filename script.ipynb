{
 "cells": [
  {
   "cell_type": "code",
   "execution_count": 1,
   "metadata": {},
   "outputs": [],
   "source": [
    "from src.Sudoku import Sudoku\n",
    "from src.SudokuSolver import SudokuSolver\n",
    "\n",
    "grid = \"\"\"700036040\n",
    "        040100070\n",
    "        300000100\n",
    "        530000000\n",
    "        209640000\n",
    "        060970080\n",
    "        020704005\n",
    "        000008004\n",
    "        054069001\"\"\"\n",
    "\n",
    "grid1 = \"\"\"000801000\n",
    "    000000043\n",
    "    500000000\n",
    "    000070800\n",
    "    000000100\n",
    "    020030000\n",
    "    600000075\n",
    "    003400000\n",
    "    000200600\"\"\"\n",
    "\n",
    "sudoku = Sudoku(grid1)\n",
    "solver = SudokuSolver(sudoku)\n"
   ]
  },
  {
   "cell_type": "code",
   "execution_count": 2,
   "metadata": {},
   "outputs": [
    {
     "name": "stdout",
     "output_type": "stream",
     "text": [
      "(6, 5) n: 0, val: 4\n",
      "(1, 6) n: 1, val: 4\n",
      "(2, 6) n: 2, val: 2\n",
      "(6, 6) n: 3, val: 3\n",
      "(3, 1) n: 4, val: 7\n",
      "(3, 2) n: 5, val: 3\n",
      "(4, 4) n: 6, val: 8\n",
      "(3, 6) n: 7, val: 9\n",
      "(4, 6) n: 8, val: 1\n",
      "(5, 6) n: 9, val: 8\n",
      "(1, 7) n: 10, val: 5\n",
      "(4, 7) n: 11, val: 6\n",
      "(5, 7) n: 12, val: 7\n",
      "(4, 8) n: 13, val: 5\n",
      "(5, 1) n: 14, val: 5\n",
      "(6, 0) n: 15, val: 5\n",
      "(5, 2) n: 16, val: 6\n",
      "(6, 2) n: 17, val: 7\n",
      "(5, 5) n: 18, val: 9\n",
      "(5, 8) n: 19, val: 3\n",
      "(8, 8) n: 20, val: 4\n",
      "(4, 1) n: 21, val: 2\n",
      "(0, 0) n: 22, val: 2\n",
      "(1, 0) n: 23, val: 3\n",
      "(2, 0) n: 24, val: 7\n",
      "(4, 0) n: 25, val: 4\n",
      "(6, 1) n: 26, val: 9\n",
      "(7, 0) n: 27, val: 6\n",
      "Return None on n: 27\n",
      "Return None on n: 26\n",
      "Return None on n: 25\n",
      "Return None on n: 24\n",
      "Return None on n: 23\n",
      "Return None on n: 22\n",
      "(4, 1) n: 21, val: 9\n",
      "(6, 1) n: 22, val: 2\n",
      "(0, 0) n: 23, val: 2\n",
      "(1, 0) n: 24, val: 3\n",
      "(2, 0) n: 25, val: 7\n",
      "(4, 0) n: 26, val: 4\n",
      "(1, 2) n: 27, val: 9\n",
      "(2, 2) n: 28, val: 4\n",
      "(4, 2) n: 29, val: 2\n",
      "(6, 7) n: 30, val: 9\n",
      "(7, 0) n: 31, val: 6\n",
      "(8, 0) n: 32, val: 9\n",
      "(7, 5) n: 33, val: 5\n",
      "(0, 1) n: 34, val: 1\n",
      "(0, 7) n: 35, val: 8\n",
      "(1, 1) n: 36, val: 8\n",
      "(2, 1) n: 37, val: 6\n",
      "(7, 2) n: 38, val: 1\n",
      "(8, 2) n: 39, val: 8\n",
      "(8, 3) n: 40, val: 2\n",
      "(0, 3) n: 41, val: 3\n",
      "(1, 3) n: 42, val: 1\n",
      "(2, 3) n: 43, val: 5\n",
      "(3, 3) n: 44, val: 6\n",
      "(5, 3) n: 45, val: 4\n",
      "(7, 3) n: 46, val: 9\n",
      "(0, 4) n: 47, val: 4\n",
      "(1, 4) n: 48, val: 6\n",
      "(2, 4) n: 49, val: 9\n",
      "(3, 4) n: 50, val: 5\n",
      "(5, 4) n: 51, val: 2\n",
      "(7, 4) n: 52, val: 3\n",
      "(8, 4) n: 53, val: 7\n",
      "(0, 5) n: 54, val: 7\n",
      "(2, 5) n: 55, val: 8\n",
      "(3, 5) n: 56, val: 1\n",
      "(8, 5) n: 57, val: 6\n",
      "(7, 7) n: 58, val: 2\n",
      "(8, 7) n: 59, val: 1\n",
      "(0, 8) n: 60, val: 9\n",
      "(1, 8) n: 61, val: 7\n",
      "(2, 8) n: 62, val: 1\n",
      "(7, 8) n: 63, val: 8\n"
     ]
    }
   ],
   "source": [
    "solved_sudoku = solver.solve()"
   ]
  },
  {
   "cell_type": "code",
   "execution_count": 3,
   "metadata": {},
   "outputs": [
    {
     "name": "stdout",
     "output_type": "stream",
     "text": [
      "2 3 7 8 4 1 5 6 9\n",
      "1 8 6 7 9 5 2 4 3\n",
      "5 9 4 3 2 6 7 1 8\n",
      "3 1 5 6 7 4 8 9 2\n",
      "4 6 9 5 8 2 1 3 7\n",
      "7 2 8 1 3 9 4 5 6\n",
      "6 4 2 9 1 8 3 7 5\n",
      "8 5 3 4 6 7 9 2 1\n",
      "9 7 1 2 5 3 6 8 4\n",
      "\n"
     ]
    }
   ],
   "source": [
    "print(solved_sudoku)"
   ]
  },
  {
   "cell_type": "markdown",
   "metadata": {},
   "source": [
    "# Playground"
   ]
  },
  {
   "cell_type": "code",
   "execution_count": null,
   "metadata": {},
   "outputs": [],
   "source": [
    "from collections import defaultdict \n",
    "\n",
    "def get_distribution(values: list):\n",
    "    distribution = defaultdict(int)\n",
    "\n",
    "    for sublist in values:\n",
    "        if sublist == [-1]:\n",
    "            continue\n",
    "        for value in sublist:\n",
    "            distribution[value] += 1\n",
    "    \n",
    "    distribution[-1] = 0\n",
    "\n",
    "    return dict(sorted(distribution.items()))"
   ]
  },
  {
   "cell_type": "code",
   "execution_count": null,
   "metadata": {},
   "outputs": [],
   "source": [
    "def filter_out_naked_singles(x_coords: list, y_coords: int = 0):\n",
    "    values = [candidates[x] for x in x_coords]\n",
    "    distribution = get_distribution(values)\n",
    "\n",
    "    for x in x_coords:\n",
    "        for i in candidates[x]:\n",
    "            if distribution[i] == 1:\n",
    "                candidates[x] = [i]\n",
    "                break\n",
    "    \n",
    "    \n"
   ]
  },
  {
   "cell_type": "code",
   "execution_count": null,
   "metadata": {},
   "outputs": [],
   "source": [
    "filter_out_naked_singles(list(range(9)))"
   ]
  },
  {
   "cell_type": "code",
   "execution_count": null,
   "metadata": {},
   "outputs": [],
   "source": [
    "candidates = [[1,2,4], [-1], [-1], [-1], [2,3], [5,6], [5,6], [1,2], [1,2]]"
   ]
  },
  {
   "cell_type": "code",
   "execution_count": null,
   "metadata": {},
   "outputs": [],
   "source": [
    "sudoku = Sudoku(grid)\n",
    "solver = SudokuSolver(sudoku)\n",
    "solver.get_indexes_per_candidate(candidates)"
   ]
  },
  {
   "cell_type": "code",
   "execution_count": null,
   "metadata": {},
   "outputs": [],
   "source": [
    "from copy import deepcopy\n",
    "\n",
    "grid_before = deepcopy(solver.grid_of_candidates)"
   ]
  },
  {
   "cell_type": "code",
   "execution_count": null,
   "metadata": {},
   "outputs": [],
   "source": [
    "solver.apply_advance_rules()"
   ]
  },
  {
   "cell_type": "code",
   "execution_count": null,
   "metadata": {},
   "outputs": [],
   "source": [
    "grid_after = solver.grid_of_candidates"
   ]
  },
  {
   "cell_type": "code",
   "execution_count": null,
   "metadata": {},
   "outputs": [],
   "source": [
    "grid_before == grid_after"
   ]
  },
  {
   "cell_type": "code",
   "execution_count": null,
   "metadata": {},
   "outputs": [],
   "source": [
    "for y in range(9):\n",
    "    for x in range(9):\n",
    "        if grid_before[y][x] != grid_after[y][x]:\n",
    "            print(f\"({x}, {y}) {grid_before[y][x]} -> {grid_after[y][x]}\")"
   ]
  },
  {
   "cell_type": "code",
   "execution_count": 5,
   "metadata": {},
   "outputs": [],
   "source": [
    "lst = [list(range(1,10)) for _ in range(9)]"
   ]
  },
  {
   "cell_type": "code",
   "execution_count": 10,
   "metadata": {},
   "outputs": [
    {
     "data": {
      "text/plain": [
       "True"
      ]
     },
     "execution_count": 10,
     "metadata": {},
     "output_type": "execute_result"
    }
   ],
   "source": [
    "import numpy as np\n",
    "\n",
    "arr = np.array(lst)\n",
    "arr.shape == (9,9)"
   ]
  },
  {
   "cell_type": "code",
   "execution_count": null,
   "metadata": {},
   "outputs": [],
   "source": []
  }
 ],
 "metadata": {
  "kernelspec": {
   "display_name": "Python 3",
   "language": "python",
   "name": "python3"
  },
  "language_info": {
   "codemirror_mode": {
    "name": "ipython",
    "version": 3
   },
   "file_extension": ".py",
   "mimetype": "text/x-python",
   "name": "python",
   "nbconvert_exporter": "python",
   "pygments_lexer": "ipython3",
   "version": "3.11.4"
  }
 },
 "nbformat": 4,
 "nbformat_minor": 2
}
