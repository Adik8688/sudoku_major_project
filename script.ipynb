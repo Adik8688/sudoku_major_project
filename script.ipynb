{
 "cells": [
  {
   "cell_type": "code",
   "execution_count": 1,
   "metadata": {},
   "outputs": [
    {
     "ename": "FileNotFoundError",
     "evalue": "[Errno 2] No such file or directory: ''",
     "output_type": "error",
     "traceback": [
      "\u001b[1;31m---------------------------------------------------------------------------\u001b[0m",
      "\u001b[1;31mFileNotFoundError\u001b[0m                         Traceback (most recent call last)",
      "Cell \u001b[1;32mIn[1], line 25\u001b[0m\n\u001b[0;32m     14\u001b[0m grid1 \u001b[38;5;241m=\u001b[39m \u001b[38;5;124m\"\"\"\u001b[39m\u001b[38;5;124m000801000\u001b[39m\n\u001b[0;32m     15\u001b[0m \u001b[38;5;124m    000000043\u001b[39m\n\u001b[0;32m     16\u001b[0m \u001b[38;5;124m    500000000\u001b[39m\n\u001b[1;32m   (...)\u001b[0m\n\u001b[0;32m     21\u001b[0m \u001b[38;5;124m    003400000\u001b[39m\n\u001b[0;32m     22\u001b[0m \u001b[38;5;124m    000200600\u001b[39m\u001b[38;5;124m\"\"\"\u001b[39m\n\u001b[0;32m     24\u001b[0m sudoku \u001b[38;5;241m=\u001b[39m Sudoku(grid1)\n\u001b[1;32m---> 25\u001b[0m solver \u001b[38;5;241m=\u001b[39m \u001b[43mSudokuSolver\u001b[49m\u001b[43m(\u001b[49m\u001b[43msudoku\u001b[49m\u001b[43m)\u001b[49m\n",
      "File \u001b[1;32me:\\Major Proj\\major\\src\\SudokuSolver.py:15\u001b[0m, in \u001b[0;36mSudokuSolver.__init__\u001b[1;34m(self, sudoku, debug_file)\u001b[0m\n\u001b[0;32m     12\u001b[0m \u001b[38;5;28mself\u001b[39m\u001b[38;5;241m.\u001b[39mnumber_of_steps \u001b[38;5;241m=\u001b[39m \u001b[38;5;241m0\u001b[39m\n\u001b[0;32m     13\u001b[0m \u001b[38;5;28mself\u001b[39m\u001b[38;5;241m.\u001b[39mdebug_file \u001b[38;5;241m=\u001b[39m debug_file\n\u001b[1;32m---> 15\u001b[0m \u001b[38;5;28;01mwith\u001b[39;00m \u001b[38;5;28;43mopen\u001b[39;49m\u001b[43m(\u001b[49m\u001b[43mdebug_file\u001b[49m\u001b[43m,\u001b[49m\u001b[43m \u001b[49m\u001b[38;5;124;43m'\u001b[39;49m\u001b[38;5;124;43ma\u001b[39;49m\u001b[38;5;124;43m'\u001b[39;49m\u001b[43m)\u001b[49m \u001b[38;5;28;01mas\u001b[39;00m f:\n\u001b[0;32m     16\u001b[0m     f\u001b[38;5;241m.\u001b[39mwrite(sudoku\u001b[38;5;241m.\u001b[39m\u001b[38;5;21m__str__\u001b[39m())\n\u001b[0;32m     17\u001b[0m     f\u001b[38;5;241m.\u001b[39mwrite(\u001b[38;5;124m\"\u001b[39m\u001b[38;5;130;01m\\n\u001b[39;00m\u001b[38;5;124m\"\u001b[39m)\n",
      "\u001b[1;31mFileNotFoundError\u001b[0m: [Errno 2] No such file or directory: ''"
     ]
    }
   ],
   "source": [
    "from src.Sudoku import Sudoku\n",
    "from src.SudokuSolver import SudokuSolver\n",
    "\n",
    "grid = \"\"\"700036040\n",
    "        040100070\n",
    "        300000100\n",
    "        530000000\n",
    "        209640000\n",
    "        060970080\n",
    "        020704005\n",
    "        000008004\n",
    "        054069001\"\"\"\n",
    "\n",
    "grid1 = \"\"\"000801000\n",
    "    000000043\n",
    "    500000000\n",
    "    000070800\n",
    "    000000100\n",
    "    020030000\n",
    "    600000075\n",
    "    003400000\n",
    "    000200600\"\"\"\n",
    "\n",
    "sudoku = Sudoku(grid1)\n",
    "solver = SudokuSolver(sudoku)\n"
   ]
  },
  {
   "cell_type": "code",
   "execution_count": null,
   "metadata": {},
   "outputs": [
    {
     "name": "stdout",
     "output_type": "stream",
     "text": [
      "(6, 5) n: 0, val: 4\n",
      "(1, 6) n: 1, val: 4\n",
      "(2, 6) n: 2, val: 2\n",
      "(6, 6) n: 3, val: 3\n",
      "(3, 1) n: 4, val: 7\n",
      "(3, 2) n: 5, val: 3\n",
      "(4, 4) n: 6, val: 8\n",
      "(3, 6) n: 7, val: 9\n",
      "(4, 6) n: 8, val: 1\n",
      "(5, 6) n: 9, val: 8\n",
      "(1, 7) n: 10, val: 5\n",
      "(4, 7) n: 11, val: 6\n",
      "(5, 7) n: 12, val: 7\n",
      "(4, 8) n: 13, val: 5\n",
      "(5, 1) n: 14, val: 5\n",
      "(6, 0) n: 15, val: 5\n",
      "(5, 2) n: 16, val: 6\n",
      "(6, 2) n: 17, val: 7\n",
      "(5, 5) n: 18, val: 9\n",
      "(5, 8) n: 19, val: 3\n",
      "(8, 8) n: 20, val: 4\n",
      "(4, 1) n: 21, val: 2\n",
      "(0, 0) n: 22, val: 2\n",
      "(1, 0) n: 23, val: 3\n",
      "(2, 0) n: 24, val: 7\n",
      "(4, 0) n: 25, val: 4\n",
      "(6, 1) n: 26, val: 9\n",
      "(7, 0) n: 27, val: 6\n",
      "Return None on n: 27\n",
      "Return None on n: 26\n",
      "Return None on n: 25\n",
      "Return None on n: 24\n",
      "Return None on n: 23\n",
      "Return None on n: 22\n",
      "(4, 1) n: 21, val: 9\n",
      "(6, 1) n: 22, val: 2\n",
      "(0, 0) n: 23, val: 2\n",
      "(1, 0) n: 24, val: 3\n",
      "(2, 0) n: 25, val: 7\n",
      "(4, 0) n: 26, val: 4\n",
      "(1, 2) n: 27, val: 9\n",
      "(2, 2) n: 28, val: 4\n",
      "(4, 2) n: 29, val: 2\n",
      "(6, 7) n: 30, val: 9\n",
      "(7, 0) n: 31, val: 6\n",
      "(8, 0) n: 32, val: 9\n",
      "(7, 5) n: 33, val: 5\n",
      "(0, 1) n: 34, val: 1\n",
      "(0, 7) n: 35, val: 8\n",
      "(1, 1) n: 36, val: 8\n",
      "(2, 1) n: 37, val: 6\n",
      "(7, 2) n: 38, val: 1\n",
      "(8, 2) n: 39, val: 8\n",
      "(8, 3) n: 40, val: 2\n",
      "(0, 3) n: 41, val: 3\n",
      "(1, 3) n: 42, val: 1\n",
      "(2, 3) n: 43, val: 5\n",
      "(3, 3) n: 44, val: 6\n",
      "(5, 3) n: 45, val: 4\n",
      "(7, 3) n: 46, val: 9\n",
      "(0, 4) n: 47, val: 4\n",
      "(1, 4) n: 48, val: 6\n",
      "(2, 4) n: 49, val: 9\n",
      "(3, 4) n: 50, val: 5\n",
      "(5, 4) n: 51, val: 2\n",
      "(7, 4) n: 52, val: 3\n",
      "(8, 4) n: 53, val: 7\n",
      "(0, 5) n: 54, val: 7\n",
      "(2, 5) n: 55, val: 8\n",
      "(3, 5) n: 56, val: 1\n",
      "(8, 5) n: 57, val: 6\n",
      "(7, 7) n: 58, val: 2\n",
      "(8, 7) n: 59, val: 1\n",
      "(0, 8) n: 60, val: 9\n",
      "(1, 8) n: 61, val: 7\n",
      "(2, 8) n: 62, val: 1\n",
      "(7, 8) n: 63, val: 8\n"
     ]
    }
   ],
   "source": [
    "solved_sudoku = solver.solve()"
   ]
  },
  {
   "cell_type": "code",
   "execution_count": null,
   "metadata": {},
   "outputs": [
    {
     "name": "stdout",
     "output_type": "stream",
     "text": [
      "2 3 7 8 4 1 5 6 9\n",
      "1 8 6 7 9 5 2 4 3\n",
      "5 9 4 3 2 6 7 1 8\n",
      "3 1 5 6 7 4 8 9 2\n",
      "4 6 9 5 8 2 1 3 7\n",
      "7 2 8 1 3 9 4 5 6\n",
      "6 4 2 9 1 8 3 7 5\n",
      "8 5 3 4 6 7 9 2 1\n",
      "9 7 1 2 5 3 6 8 4\n",
      "\n"
     ]
    }
   ],
   "source": [
    "print(solved_sudoku)"
   ]
  },
  {
   "cell_type": "markdown",
   "metadata": {},
   "source": [
    "# Playground"
   ]
  },
  {
   "cell_type": "code",
   "execution_count": null,
   "metadata": {},
   "outputs": [],
   "source": [
    "from collections import defaultdict \n",
    "\n",
    "def get_distribution(values: list):\n",
    "    distribution = defaultdict(int)\n",
    "\n",
    "    for sublist in values:\n",
    "        if sublist == [-1]:\n",
    "            continue\n",
    "        for value in sublist:\n",
    "            distribution[value] += 1\n",
    "    \n",
    "    distribution[-1] = 0\n",
    "\n",
    "    return dict(sorted(distribution.items()))"
   ]
  },
  {
   "cell_type": "code",
   "execution_count": null,
   "metadata": {},
   "outputs": [],
   "source": [
    "def filter_out_naked_singles(x_coords: list, y_coords: int = 0):\n",
    "    values = [candidates[x] for x in x_coords]\n",
    "    distribution = get_distribution(values)\n",
    "\n",
    "    for x in x_coords:\n",
    "        for i in candidates[x]:\n",
    "            if distribution[i] == 1:\n",
    "                candidates[x] = [i]\n",
    "                break\n",
    "    \n",
    "    \n"
   ]
  },
  {
   "cell_type": "code",
   "execution_count": null,
   "metadata": {},
   "outputs": [],
   "source": [
    "filter_out_naked_singles(list(range(9)))"
   ]
  },
  {
   "cell_type": "code",
   "execution_count": null,
   "metadata": {},
   "outputs": [],
   "source": [
    "candidates = [[1,2,4], [-1], [-1], [-1], [2,3], [5,6], [5,6], [1,2], [1,2]]"
   ]
  },
  {
   "cell_type": "code",
   "execution_count": null,
   "metadata": {},
   "outputs": [],
   "source": [
    "sudoku = Sudoku(grid)\n",
    "solver = SudokuSolver(sudoku)\n",
    "solver.get_indexes_per_candidate(candidates)"
   ]
  },
  {
   "cell_type": "code",
   "execution_count": null,
   "metadata": {},
   "outputs": [],
   "source": [
    "from copy import deepcopy\n",
    "\n",
    "grid_before = deepcopy(solver.grid_of_candidates)"
   ]
  },
  {
   "cell_type": "code",
   "execution_count": null,
   "metadata": {},
   "outputs": [],
   "source": [
    "solver.apply_advance_rules()"
   ]
  },
  {
   "cell_type": "code",
   "execution_count": null,
   "metadata": {},
   "outputs": [],
   "source": [
    "grid_after = solver.grid_of_candidates"
   ]
  },
  {
   "cell_type": "code",
   "execution_count": null,
   "metadata": {},
   "outputs": [],
   "source": [
    "grid_before == grid_after"
   ]
  },
  {
   "cell_type": "code",
   "execution_count": null,
   "metadata": {},
   "outputs": [],
   "source": [
    "for y in range(9):\n",
    "    for x in range(9):\n",
    "        if grid_before[y][x] != grid_after[y][x]:\n",
    "            print(f\"({x}, {y}) {grid_before[y][x]} -> {grid_after[y][x]}\")"
   ]
  },
  {
   "cell_type": "code",
   "execution_count": null,
   "metadata": {},
   "outputs": [],
   "source": [
    "lst = [list(range(1,10)) for _ in range(9)]"
   ]
  },
  {
   "cell_type": "code",
   "execution_count": null,
   "metadata": {},
   "outputs": [
    {
     "data": {
      "text/plain": [
       "True"
      ]
     },
     "execution_count": 10,
     "metadata": {},
     "output_type": "execute_result"
    }
   ],
   "source": [
    "import numpy as np\n",
    "\n",
    "arr = np.array(lst)\n",
    "arr.shape == (9,9)"
   ]
  },
  {
   "cell_type": "code",
   "execution_count": null,
   "metadata": {},
   "outputs": [],
   "source": [
    "import numpy as np\n",
    "\n",
    "grid = [\n",
    "        [1, 7, 8, 6, 5, 9, 2, 3, 4],\n",
    "        [9, 3, 4, 8, 2, 1, 6, 5, 7],\n",
    "        [6, 2, 5, 3, 7, 4, 1, 9, 8],\n",
    "        [4, 6, 1, 9, 8, 2, 3, 7, 5],\n",
    "        [7, 9, 3, 5, 1, 6, 8, 4, 2],\n",
    "        [5, 8, 2, 7, 4, 3, 9, 1, 6],\n",
    "        [3, 1, 7, 4, 6, 8, 5, 2, 9],\n",
    "        [2, 5, 6, 1, 9, 7, 4, 8, 3],\n",
    "        [8, 4, 9, 2, 3, 5, 7, 6, 1],\n",
    "    ]\n",
    "\n",
    "grid = np.array(grid)\n",
    "\n",
    "col_correct = np.sort(grid, axis=0)\n"
   ]
  },
  {
   "cell_type": "code",
   "execution_count": null,
   "metadata": {},
   "outputs": [],
   "source": [
    "result = np.all(col_correct == np.arange(1,10)[:, None], axis=1)"
   ]
  },
  {
   "cell_type": "code",
   "execution_count": null,
   "metadata": {},
   "outputs": [
    {
     "data": {
      "text/plain": [
       "array([[1, 1, 1, 1, 1, 1, 1, 1, 1],\n",
       "       [2, 2, 2, 2, 2, 2, 2, 2, 2],\n",
       "       [3, 3, 3, 3, 3, 3, 3, 3, 3],\n",
       "       [4, 4, 4, 4, 4, 4, 4, 4, 4],\n",
       "       [5, 5, 5, 5, 5, 5, 5, 5, 5],\n",
       "       [6, 6, 6, 6, 6, 6, 6, 6, 6],\n",
       "       [7, 7, 7, 7, 7, 7, 7, 7, 7],\n",
       "       [8, 8, 8, 8, 8, 8, 8, 8, 8],\n",
       "       [9, 9, 9, 9, 9, 9, 9, 9, 9]])"
      ]
     },
     "execution_count": 75,
     "metadata": {},
     "output_type": "execute_result"
    }
   ],
   "source": [
    "col_correct"
   ]
  },
  {
   "cell_type": "code",
   "execution_count": null,
   "metadata": {},
   "outputs": [
    {
     "data": {
      "text/plain": [
       "array([ True,  True,  True,  True,  True,  True,  True,  True,  True])"
      ]
     },
     "execution_count": 76,
     "metadata": {},
     "output_type": "execute_result"
    }
   ],
   "source": [
    "result"
   ]
  },
  {
   "cell_type": "code",
   "execution_count": null,
   "metadata": {},
   "outputs": [],
   "source": [
    "grid = [[0] * 9 for _ in range(9)]"
   ]
  },
  {
   "cell_type": "code",
   "execution_count": null,
   "metadata": {},
   "outputs": [
    {
     "data": {
      "text/plain": [
       "[[0, 0, 0, 0, 0, 0, 0, 0, 0],\n",
       " [0, 0, 0, 0, 0, 0, 0, 0, 0],\n",
       " [0, 0, 0, 0, 0, 0, 0, 0, 0],\n",
       " [0, 0, 0, 0, 0, 0, 0, 0, 0],\n",
       " [0, 0, 0, 0, 0, 0, 0, 0, 0],\n",
       " [0, 0, 0, 0, 0, 0, 0, 0, 0],\n",
       " [0, 0, 0, 0, 0, 0, 0, 0, 0],\n",
       " [0, 0, 0, 0, 0, 0, 0, 0, 0],\n",
       " [0, 0, 0, 0, 0, 0, 0, 0, 0]]"
      ]
     },
     "execution_count": 2,
     "metadata": {},
     "output_type": "execute_result"
    }
   ],
   "source": [
    "grid"
   ]
  },
  {
   "cell_type": "code",
   "execution_count": null,
   "metadata": {},
   "outputs": [
    {
     "data": {
      "text/plain": [
       "36"
      ]
     },
     "execution_count": 5,
     "metadata": {},
     "output_type": "execute_result"
    }
   ],
   "source": [
    "import numpy as np\n",
    "\n",
    "np.random.randint(10, 50)"
   ]
  },
  {
   "cell_type": "code",
   "execution_count": null,
   "metadata": {},
   "outputs": [],
   "source": [
    "arr = np.arange(1, 10)"
   ]
  },
  {
   "cell_type": "code",
   "execution_count": null,
   "metadata": {},
   "outputs": [
    {
     "data": {
      "text/plain": [
       "array([1, 2, 3, 4, 5, 6, 7, 8, 9])"
      ]
     },
     "execution_count": 10,
     "metadata": {},
     "output_type": "execute_result"
    }
   ],
   "source": [
    "arr[:10]"
   ]
  },
  {
   "cell_type": "code",
   "execution_count": null,
   "metadata": {},
   "outputs": [],
   "source": [
    "from src.Sudoku import Sudoku\n",
    "from src.SudokuScrambler import SudokuScrambler\n",
    "\n",
    "grid = [\n",
    "        [5, 3, 4, 6, 7, 8, 9, 1, 2],\n",
    "        [6, 7, 2, 1, 9, 5, 3, 4, 8],\n",
    "        [1, 9, 8, 3, 4, 2, 5, 6, 7],\n",
    "        [8, 5, 9, 7, 6, 1, 4, 2, 3],\n",
    "        [4, 2, 6, 8, 5, 3, 7, 9, 1],\n",
    "        [7, 1, 3, 9, 2, 4, 8, 5, 6],\n",
    "        [9, 6, 1, 5, 3, 7, 2, 8, 4],\n",
    "        [2, 8, 7, 4, 1, 9, 6, 3, 5],\n",
    "        [3, 4, 5, 2, 8, 6, 1, 7, 9],\n",
    "    ]\n",
    "\n",
    "sudoku = Sudoku(grid)"
   ]
  },
  {
   "cell_type": "code",
   "execution_count": null,
   "metadata": {},
   "outputs": [],
   "source": [
    "scrambler = SudokuScrambler(sudoku)\n",
    "scrambler.scramble()"
   ]
  },
  {
   "cell_type": "code",
   "execution_count": null,
   "metadata": {},
   "outputs": [
    {
     "name": "stdout",
     "output_type": "stream",
     "text": [
      "2 3 7 5 8 4 1 9 6\n",
      "5 2 4 - - 6 8 3 1\n",
      "1 8 3 - 6 5 9 7 4\n",
      "- 4 1 6 7 3 5 2 9\n",
      "7 9 5 4 3 8 - 1 -\n",
      "9 7 6 8 4 1 - 5 3\n",
      "6 1 8 - 2 9 7 4 5\n",
      "4 6 9 1 5 2 3 8 7\n",
      "3 5 2 9 1 7 4 6 -\n",
      "\n"
     ]
    }
   ],
   "source": [
    "print(sudoku)"
   ]
  },
  {
   "cell_type": "code",
   "execution_count": null,
   "metadata": {},
   "outputs": [],
   "source": [
    "from src.SudokuAnalyzer import SudokuAnalyzer\n",
    "\n",
    "analyzer = SudokuAnalyzer(sudoku)\n",
    "c1 = analyzer.get_sum_of_candidates()"
   ]
  },
  {
   "cell_type": "code",
   "execution_count": null,
   "metadata": {},
   "outputs": [
    {
     "data": {
      "text/plain": [
       "(6, 72, 3.16)"
      ]
     },
     "execution_count": 5,
     "metadata": {},
     "output_type": "execute_result"
    }
   ],
   "source": [
    "analyzer.get_sudoku_description()"
   ]
  },
  {
   "cell_type": "code",
   "execution_count": null,
   "metadata": {},
   "outputs": [
    {
     "data": {
      "text/plain": [
       "[[[-1], [-1], [-1], [-1], [-1], [-1], [-1], [-1], [-1]],\n",
       " [[-1], [-1], [-1], [7], [9], [-1], [-1], [-1], [-1]],\n",
       " [[-1], [-1], [-1], [2], [-1], [-1], [-1], [-1], [-1]],\n",
       " [[8], [-1], [-1], [-1], [-1], [-1], [-1], [-1], [-1]],\n",
       " [[-1], [-1], [-1], [-1], [-1], [-1], [6], [-1], []],\n",
       " [[-1], [-1], [-1], [-1], [-1], [-1], [], [-1], [-1]],\n",
       " [[-1], [-1], [-1], [3], [-1], [-1], [-1], [-1], [-1]],\n",
       " [[-1], [-1], [-1], [-1], [-1], [-1], [-1], [-1], [-1]],\n",
       " [[-1], [-1], [-1], [-1], [-1], [-1], [-1], [-1], []]]"
      ]
     },
     "execution_count": 6,
     "metadata": {},
     "output_type": "execute_result"
    }
   ],
   "source": [
    "from src.SudokuSolver import SudokuSolver\n",
    "\n",
    "solver = SudokuSolver(sudoku)\n",
    "solver.grid_of_candidates"
   ]
  },
  {
   "cell_type": "code",
   "execution_count": null,
   "metadata": {},
   "outputs": [],
   "source": [
    "result = 0\n",
    "for row in solver.grid_of_candidates:\n",
    "    for i in row:\n",
    "        if i != [-1]:\n",
    "            result += len(i)"
   ]
  },
  {
   "cell_type": "code",
   "execution_count": null,
   "metadata": {},
   "outputs": [],
   "source": [
    "solver.solve()"
   ]
  },
  {
   "cell_type": "code",
   "execution_count": null,
   "metadata": {},
   "outputs": [
    {
     "data": {
      "text/plain": [
       "array([[2, 3, 7, 5, 8, 4, 1, 9, 6],\n",
       "       [5, 2, 4, 0, 0, 6, 8, 3, 1],\n",
       "       [1, 8, 3, 0, 6, 5, 9, 7, 4],\n",
       "       [0, 4, 1, 6, 7, 3, 5, 2, 9],\n",
       "       [7, 9, 5, 4, 3, 8, 0, 1, 0],\n",
       "       [9, 7, 6, 8, 4, 1, 0, 5, 3],\n",
       "       [6, 1, 8, 0, 2, 9, 7, 4, 5],\n",
       "       [4, 6, 9, 1, 5, 2, 3, 8, 7],\n",
       "       [3, 5, 2, 9, 1, 7, 4, 6, 0]])"
      ]
     },
     "execution_count": 9,
     "metadata": {},
     "output_type": "execute_result"
    }
   ],
   "source": [
    "sudoku.grid"
   ]
  },
  {
   "cell_type": "code",
   "execution_count": null,
   "metadata": {},
   "outputs": [
    {
     "data": {
      "text/plain": [
       "[0, 1, 2, 4, 5, 3, 6, 8, 7]"
      ]
     },
     "execution_count": 14,
     "metadata": {},
     "output_type": "execute_result"
    }
   ],
   "source": [
    "import numpy as np\n",
    "\n",
    "new_order = []\n",
    "for i in range(0, 9, 3):\n",
    "    sub_order = np.arange(0, 3)\n",
    "    sub_order = np.random.permutation(sub_order)\n",
    "    sub_order += i\n",
    "    new_order += list(sub_order)\n",
    "\n",
    "\n",
    "new_order"
   ]
  },
  {
   "cell_type": "code",
   "execution_count": null,
   "metadata": {},
   "outputs": [
    {
     "name": "stderr",
     "output_type": "stream",
     "text": [
      "C:\\Users\\adria\\AppData\\Local\\Temp\\ipykernel_1644\\1849714769.py:1: DeprecationWarning: \n",
      "Pyarrow will become a required dependency of pandas in the next major release of pandas (pandas 3.0),\n",
      "(to allow more performant data types, such as the Arrow string type, and better interoperability with other libraries)\n",
      "but was not found to be installed on your system.\n",
      "If this would cause problems for you,\n",
      "please provide us feedback at https://github.com/pandas-dev/pandas/issues/54466\n",
      "        \n",
      "  import pandas as pd\n"
     ]
    },
    {
     "data": {
      "text/plain": [
       "sum_of_candidates           0.946849\n",
       "number_of_initial_values   -0.999121\n",
       "initial_numbers_entropy    -0.763031\n",
       "Name: numbers_of_steps_to_solve, dtype: float64"
      ]
     },
     "execution_count": 1,
     "metadata": {},
     "output_type": "execute_result"
    }
   ],
   "source": [
    "import pandas as pd\n",
    "import numpy as np\n",
    "\n",
    "df = pd.read_csv(\"output.txt\", sep=\";\")\n",
    "\n",
    "correlation_matrix = df.corr()\n",
    "corr_with_steps = correlation_matrix.iloc[-1][:-1]\n",
    "\n",
    "corr_with_steps"
   ]
  },
  {
   "cell_type": "markdown",
   "metadata": {},
   "source": [
    "# Plot\n"
   ]
  },
  {
   "cell_type": "code",
   "execution_count": null,
   "metadata": {},
   "outputs": [
    {
     "data": {
      "image/png": "[encoded data removed]",
      "text/plain": [
       "<Figure size 1800x500 with 3 Axes>"
      ]
     },
     "metadata": {},
     "output_type": "display_data"
    }
   ],
   "source": [
    "import matplotlib.pyplot as plt\n",
    "\n",
    "plt.figure(figsize=(18, 5))\n",
    "\n",
    "# List of column names for plotting\n",
    "columns = ['sum_of_candidates', 'number_of_initial_values', 'initial_numbers_entropy']\n",
    "\n",
    "for i, column in enumerate(columns, 1):\n",
    "    x = df['numbers_of_steps_to_solve']\n",
    "    y = df[column]\n",
    "    \n",
    "    # Scatter plot\n",
    "    plt.subplot(1, 3, i)\n",
    "    plt.scatter(x, y, label='Data')\n",
    "    \n",
    "    # Fit and plot trend line\n",
    "    z = np.polyfit(x, y, 1)\n",
    "    p = np.poly1d(z)\n",
    "    plt.plot(x, p(x), \"r--\", label='Trend line')  # \"r--\" is for red dashed line\n",
    "    \n",
    "    plt.title(f'numbers_of_steps_to_solve vs {column}')\n",
    "    plt.xlabel('numbers_of_steps_to_solve')\n",
    "    plt.ylabel(column)\n",
    "\n",
    "plt.tight_layout()\n",
    "plt.legend()\n",
    "plt.show()"
   ]
  },
  {
   "cell_type": "markdown",
   "metadata": {},
   "source": [
    "# Numba"
   ]
  },
  {
   "cell_type": "code",
   "execution_count": null,
   "metadata": {},
   "outputs": [],
   "source": [
    "from src.Sudoku import Sudoku\n",
    "import numpy as np\n",
    "\n",
    "\n",
    "grid1 = \"\"\"000801000\n",
    "    000000043\n",
    "    500000000\n",
    "    000070800\n",
    "    000000100\n",
    "    020030000\n",
    "    600000075\n",
    "    003400000\n",
    "    000200600\"\"\"\n",
    "\n",
    "sudoku = Sudoku(grid1)\n"
   ]
  },
  {
   "cell_type": "code",
   "execution_count": null,
   "metadata": {},
   "outputs": [],
   "source": [
    "from numba import jit, prange\n",
    "\n",
    "def calculate_candidates(sudoku):\n",
    "\n",
    "    candidates = np.zeros([9, 9]) \n",
    "\n",
    "    for y in range(9):\n",
    "        for x in range(9):\n",
    "            if sudoku.get_cell(x, y) != 0:\n",
    "                candidates[y][x] = 0\n",
    "                continue\n",
    "\n",
    "            row = sudoku.get_row(y)\n",
    "            col = sudoku.get_col(x)\n",
    "            sq_index = x // 3 + 3 * (y // 3)\n",
    "            sq = sudoku.get_square(sq_index)\n",
    "            invalid_numbers = np.concatenate((row, col, sq.flatten()))\n",
    "            valid_numbers = np.setdiff1d(np.arange(1, 10), invalid_numbers)\n",
    "            candidates[y][x] = len(valid_numbers)\n",
    "\n",
    "    return candidates\n",
    "\n",
    "\n",
    "@jit(nopython=True)\n",
    "def custom_setdiff1d(ar1, ar2):\n",
    "    # Create an empty list to hold the result\n",
    "    result = []\n",
    "    \n",
    "    # Convert ar2 to a set for faster lookup\n",
    "    ar2_set = set(ar2)\n",
    "    \n",
    "    # Add elements to result that are in ar1 but not in ar2\n",
    "    for item in ar1:\n",
    "        if item not in ar2_set:\n",
    "            result.append(item)\n",
    "    \n",
    "    return np.array(result)\n",
    "\n",
    "@jit(nopython=True, parallel=True)\n",
    "def calculate_candidates_2(grid: np.array):\n",
    "\n",
    "    candidates = np.zeros((9, 9, 9), dtype=np.bool_)\n",
    "\n",
    "    for y in prange(9):\n",
    "        for x in prange(9):\n",
    "            if grid[y, x] != 0:\n",
    "                continue\n",
    "\n",
    "            row = grid[y, :]\n",
    "            col = grid[:, x]\n",
    "            y0 = (y // 3) * 3\n",
    "            x0 = (x // 3) * 3\n",
    "            sq = grid[y0 : y0 + 3, x0 : x0 + 3]\n",
    "            invalid_numbers = np.concatenate((row, col, sq.flatten()))\n",
    "            valid_numbers = custom_setdiff1d(np.arange(1, 10), invalid_numbers)\n",
    "            candidates[y, x, valid_numbers - 1] = 1\n",
    "\n",
    "    return candidates\n"
   ]
  },
  {
   "cell_type": "code",
   "execution_count": null,
   "metadata": {},
   "outputs": [
    {
     "name": "stdout",
     "output_type": "stream",
     "text": [
      "Time: 54.25662636756897\n"
     ]
    }
   ],
   "source": [
    "import time\n",
    "\n",
    "start_time = time.time()\n",
    "\n",
    "for _ in range(1000000):\n",
    "    c = calculate_candidates_2(sudoku.grid)\n",
    "\n",
    "end_time = time.time()\n",
    "\n",
    "print(f\"Time: {end_time - start_time}\")\n"
   ]
  },
  {
   "cell_type": "code",
   "execution_count": null,
   "metadata": {},
   "outputs": [],
   "source": [
    "def decode_candidates(c):\n",
    "    candidates = []\n",
    "    for row in c:\n",
    "        new_row = []\n",
    "        for elem in row:\n",
    "            new_row.append([i + 1 for i, e in enumerate(elem) if e])\n",
    "        candidates.append(new_row)\n",
    "    \n",
    "    return candidates\n",
    "\n",
    "            "
   ]
  },
  {
   "cell_type": "code",
   "execution_count": null,
   "metadata": {},
   "outputs": [
    {
     "name": "stdout",
     "output_type": "stream",
     "text": [
      "- - - 8 - 1 - - -\n",
      "- - - - - - - 4 3\n",
      "5 - - - - - - - -\n",
      "- - - - 7 - 8 - -\n",
      "- - - - - - 1 - -\n",
      "- 2 - - 3 - - - -\n",
      "6 - - - - - - 7 5\n",
      "- - 3 4 - - - - -\n",
      "- - - 2 - - 6 - -\n",
      "\n"
     ]
    }
   ],
   "source": [
    "print(sudoku)"
   ]
  },
  {
   "cell_type": "code",
   "execution_count": null,
   "metadata": {},
   "outputs": [
    {
     "data": {
      "text/plain": [
       "[[[2, 3, 4, 7, 9],\n",
       "  [3, 4, 6, 7, 9],\n",
       "  [2, 4, 6, 7, 9],\n",
       "  [],\n",
       "  [2, 4, 5, 6, 9],\n",
       "  [],\n",
       "  [2, 5, 7, 9],\n",
       "  [2, 5, 6, 9],\n",
       "  [2, 6, 7, 9]],\n",
       " [[1, 2, 7, 8, 9],\n",
       "  [1, 6, 7, 8, 9],\n",
       "  [1, 2, 6, 7, 8, 9],\n",
       "  [5, 6, 7, 9],\n",
       "  [2, 5, 6, 9],\n",
       "  [2, 5, 6, 7, 9],\n",
       "  [2, 5, 7, 9],\n",
       "  [],\n",
       "  []],\n",
       " [[],\n",
       "  [1, 3, 4, 6, 7, 8, 9],\n",
       "  [1, 2, 4, 6, 7, 8, 9],\n",
       "  [3, 6, 7, 9],\n",
       "  [2, 4, 6, 9],\n",
       "  [2, 3, 4, 6, 7, 9],\n",
       "  [2, 7, 9],\n",
       "  [1, 2, 6, 8, 9],\n",
       "  [1, 2, 6, 7, 8, 9]],\n",
       " [[1, 3, 4, 9],\n",
       "  [1, 3, 4, 5, 6, 9],\n",
       "  [1, 4, 5, 6, 9],\n",
       "  [1, 5, 6, 9],\n",
       "  [],\n",
       "  [2, 4, 5, 6, 9],\n",
       "  [],\n",
       "  [2, 3, 5, 6, 9],\n",
       "  [2, 4, 6, 9]],\n",
       " [[3, 4, 7, 8, 9],\n",
       "  [3, 4, 5, 6, 7, 8, 9],\n",
       "  [4, 5, 6, 7, 8, 9],\n",
       "  [5, 6, 9],\n",
       "  [2, 4, 5, 6, 8, 9],\n",
       "  [2, 4, 5, 6, 8, 9],\n",
       "  [],\n",
       "  [2, 3, 5, 6, 9],\n",
       "  [2, 4, 6, 7, 9]],\n",
       " [[1, 4, 7, 8, 9],\n",
       "  [],\n",
       "  [1, 4, 5, 6, 7, 8, 9],\n",
       "  [1, 5, 6, 9],\n",
       "  [],\n",
       "  [4, 5, 6, 8, 9],\n",
       "  [4, 5, 7, 9],\n",
       "  [5, 6, 9],\n",
       "  [4, 6, 7, 9]],\n",
       " [[],\n",
       "  [1, 4, 8, 9],\n",
       "  [1, 2, 4, 8, 9],\n",
       "  [1, 3, 9],\n",
       "  [1, 8, 9],\n",
       "  [3, 8, 9],\n",
       "  [2, 3, 4, 9],\n",
       "  [],\n",
       "  []],\n",
       " [[1, 2, 7, 8, 9],\n",
       "  [1, 5, 7, 8, 9],\n",
       "  [],\n",
       "  [],\n",
       "  [1, 5, 6, 8, 9],\n",
       "  [5, 6, 7, 8, 9],\n",
       "  [2, 9],\n",
       "  [1, 2, 8, 9],\n",
       "  [1, 2, 8, 9]],\n",
       " [[1, 4, 7, 8, 9],\n",
       "  [1, 4, 5, 7, 8, 9],\n",
       "  [1, 4, 5, 7, 8, 9],\n",
       "  [],\n",
       "  [1, 5, 8, 9],\n",
       "  [3, 5, 7, 8, 9],\n",
       "  [],\n",
       "  [1, 3, 8, 9],\n",
       "  [1, 4, 8, 9]]]"
      ]
     },
     "execution_count": 127,
     "metadata": {},
     "output_type": "execute_result"
    }
   ],
   "source": [
    "decode_candidates(c)"
   ]
  },
  {
   "cell_type": "code",
   "execution_count": null,
   "metadata": {},
   "outputs": [
    {
     "data": {
      "text/plain": [
       "array([[[0., 1., 1., 1., 0., 0., 1., 0., 1.],\n",
       "        [0., 0., 1., 1., 0., 1., 1., 0., 1.],\n",
       "        [0., 1., 0., 1., 0., 1., 1., 0., 1.],\n",
       "        [0., 0., 0., 0., 0., 0., 0., 0., 0.],\n",
       "        [0., 1., 0., 1., 1., 1., 0., 0., 1.],\n",
       "        [0., 0., 0., 0., 0., 0., 0., 0., 0.],\n",
       "        [0., 1., 0., 0., 1., 0., 1., 0., 1.],\n",
       "        [0., 1., 0., 0., 1., 1., 0., 0., 1.],\n",
       "        [0., 1., 0., 0., 0., 1., 1., 0., 1.]],\n",
       "\n",
       "       [[1., 1., 0., 0., 0., 0., 1., 1., 1.],\n",
       "        [1., 0., 0., 0., 0., 1., 1., 1., 1.],\n",
       "        [1., 1., 0., 0., 0., 1., 1., 1., 1.],\n",
       "        [0., 0., 0., 0., 1., 1., 1., 0., 1.],\n",
       "        [0., 1., 0., 0., 1., 1., 0., 0., 1.],\n",
       "        [0., 1., 0., 0., 1., 1., 1., 0., 1.],\n",
       "        [0., 1., 0., 0., 1., 0., 1., 0., 1.],\n",
       "        [0., 0., 0., 0., 0., 0., 0., 0., 0.],\n",
       "        [0., 0., 0., 0., 0., 0., 0., 0., 0.]],\n",
       "\n",
       "       [[0., 0., 0., 0., 0., 0., 0., 0., 0.],\n",
       "        [1., 0., 1., 1., 0., 1., 1., 1., 1.],\n",
       "        [1., 1., 0., 1., 0., 1., 1., 1., 1.],\n",
       "        [0., 0., 1., 0., 0., 1., 1., 0., 1.],\n",
       "        [0., 1., 0., 1., 0., 1., 0., 0., 1.],\n",
       "        [0., 1., 1., 1., 0., 1., 1., 0., 1.],\n",
       "        [0., 1., 0., 0., 0., 0., 1., 0., 1.],\n",
       "        [1., 1., 0., 0., 0., 1., 0., 1., 1.],\n",
       "        [1., 1., 0., 0., 0., 1., 1., 1., 1.]],\n",
       "\n",
       "       [[1., 0., 1., 1., 0., 0., 0., 0., 1.],\n",
       "        [1., 0., 1., 1., 1., 1., 0., 0., 1.],\n",
       "        [1., 0., 0., 1., 1., 1., 0., 0., 1.],\n",
       "        [1., 0., 0., 0., 1., 1., 0., 0., 1.],\n",
       "        [0., 0., 0., 0., 0., 0., 0., 0., 0.],\n",
       "        [0., 1., 0., 1., 1., 1., 0., 0., 1.],\n",
       "        [0., 0., 0., 0., 0., 0., 0., 0., 0.],\n",
       "        [0., 1., 1., 0., 1., 1., 0., 0., 1.],\n",
       "        [0., 1., 0., 1., 0., 1., 0., 0., 1.]],\n",
       "\n",
       "       [[0., 0., 1., 1., 0., 0., 1., 1., 1.],\n",
       "        [0., 0., 1., 1., 1., 1., 1., 1., 1.],\n",
       "        [0., 0., 0., 1., 1., 1., 1., 1., 1.],\n",
       "        [0., 0., 0., 0., 1., 1., 0., 0., 1.],\n",
       "        [0., 1., 0., 1., 1., 1., 0., 1., 1.],\n",
       "        [0., 1., 0., 1., 1., 1., 0., 1., 1.],\n",
       "        [0., 0., 0., 0., 0., 0., 0., 0., 0.],\n",
       "        [0., 1., 1., 0., 1., 1., 0., 0., 1.],\n",
       "        [0., 1., 0., 1., 0., 1., 1., 0., 1.]],\n",
       "\n",
       "       [[1., 0., 0., 1., 0., 0., 1., 1., 1.],\n",
       "        [0., 0., 0., 0., 0., 0., 0., 0., 0.],\n",
       "        [1., 0., 0., 1., 1., 1., 1., 1., 1.],\n",
       "        [1., 0., 0., 0., 1., 1., 0., 0., 1.],\n",
       "        [0., 0., 0., 0., 0., 0., 0., 0., 0.],\n",
       "        [0., 0., 0., 1., 1., 1., 0., 1., 1.],\n",
       "        [0., 0., 0., 1., 1., 0., 1., 0., 1.],\n",
       "        [0., 0., 0., 0., 1., 1., 0., 0., 1.],\n",
       "        [0., 0., 0., 1., 0., 1., 1., 0., 1.]],\n",
       "\n",
       "       [[0., 0., 0., 0., 0., 0., 0., 0., 0.],\n",
       "        [1., 0., 0., 1., 0., 0., 0., 1., 1.],\n",
       "        [1., 1., 0., 1., 0., 0., 0., 1., 1.],\n",
       "        [1., 0., 1., 0., 0., 0., 0., 0., 1.],\n",
       "        [1., 0., 0., 0., 0., 0., 0., 1., 1.],\n",
       "        [0., 0., 1., 0., 0., 0., 0., 1., 1.],\n",
       "        [0., 1., 1., 1., 0., 0., 0., 0., 1.],\n",
       "        [0., 0., 0., 0., 0., 0., 0., 0., 0.],\n",
       "        [0., 0., 0., 0., 0., 0., 0., 0., 0.]],\n",
       "\n",
       "       [[1., 1., 0., 0., 0., 0., 1., 1., 1.],\n",
       "        [1., 0., 0., 0., 1., 0., 1., 1., 1.],\n",
       "        [0., 0., 0., 0., 0., 0., 0., 0., 0.],\n",
       "        [0., 0., 0., 0., 0., 0., 0., 0., 0.],\n",
       "        [1., 0., 0., 0., 1., 1., 0., 1., 1.],\n",
       "        [0., 0., 0., 0., 1., 1., 1., 1., 1.],\n",
       "        [0., 1., 0., 0., 0., 0., 0., 0., 1.],\n",
       "        [1., 1., 0., 0., 0., 0., 0., 1., 1.],\n",
       "        [1., 1., 0., 0., 0., 0., 0., 1., 1.]],\n",
       "\n",
       "       [[1., 0., 0., 1., 0., 0., 1., 1., 1.],\n",
       "        [1., 0., 0., 1., 1., 0., 1., 1., 1.],\n",
       "        [1., 0., 0., 1., 1., 0., 1., 1., 1.],\n",
       "        [0., 0., 0., 0., 0., 0., 0., 0., 0.],\n",
       "        [1., 0., 0., 0., 1., 0., 0., 1., 1.],\n",
       "        [0., 0., 1., 0., 1., 0., 1., 1., 1.],\n",
       "        [0., 0., 0., 0., 0., 0., 0., 0., 0.],\n",
       "        [1., 0., 1., 0., 0., 0., 0., 1., 1.],\n",
       "        [1., 0., 0., 1., 0., 0., 0., 1., 1.]]])"
      ]
     },
     "execution_count": 118,
     "metadata": {},
     "output_type": "execute_result"
    }
   ],
   "source": [
    "c"
   ]
  },
  {
   "cell_type": "code",
   "execution_count": null,
   "metadata": {},
   "outputs": [],
   "source": [
    "my_list = []\n",
    "with open(\"batch_31.txt\", 'r') as f:\n",
    "    for line in f:\n",
    "        if line.startswith(\"Solving time:\"):\n",
    "            my_list.append(line.strip())\n"
   ]
  },
  {
   "cell_type": "code",
   "execution_count": null,
   "metadata": {},
   "outputs": [
    {
     "data": {
      "text/plain": [
       "268.13"
      ]
     },
     "execution_count": 19,
     "metadata": {},
     "output_type": "execute_result"
    }
   ],
   "source": [
    "my_list = sorted([float(i.split()[2]) for i in my_list], reverse=True)\n",
    "round(sum(my_list), 2)"
   ]
  },
  {
   "cell_type": "code",
   "execution_count": null,
   "metadata": {},
   "outputs": [],
   "source": [
    "def sum_of_solves(filename):\n",
    "    my_list = []\n",
    "    with open(filename, 'r') as f:\n",
    "        for line in f:\n",
    "            if line.startswith(\"Solving time:\"):\n",
    "                my_list.append(line.strip())\n",
    "    \n",
    "    my_list = sorted([float(i.split()[2]) for i in my_list], reverse=True)\n",
    "    return round(sum(my_list), 2)\n",
    "\n",
    "\n"
   ]
  },
  {
   "cell_type": "code",
   "execution_count": null,
   "metadata": {},
   "outputs": [],
   "source": [
    "output = []\n",
    "for i in range(32):\n",
    "    result = sum_of_solves(f\"batch_{i}.txt\")\n",
    "    output.append((i, result))"
   ]
  },
  {
   "cell_type": "code",
   "execution_count": null,
   "metadata": {},
   "outputs": [
    {
     "data": {
      "text/plain": [
       "[(4, 499.23),\n",
       " (24, 491.34),\n",
       " (9, 490.57),\n",
       " (19, 486.92),\n",
       " (8, 486.63),\n",
       " (12, 485.06),\n",
       " (3, 484.9),\n",
       " (11, 483.46),\n",
       " (21, 483.31),\n",
       " (0, 482.55),\n",
       " (6, 482.39),\n",
       " (22, 481.74),\n",
       " (30, 478.85),\n",
       " (16, 478.08),\n",
       " (14, 476.69),\n",
       " (27, 476.51),\n",
       " (29, 476.42),\n",
       " (26, 473.78),\n",
       " (1, 470.97),\n",
       " (7, 463.81),\n",
       " (23, 444.66),\n",
       " (20, 443.69),\n",
       " (15, 413.5),\n",
       " (17, 408.82),\n",
       " (18, 406.08),\n",
       " (25, 390.95),\n",
       " (28, 385.99),\n",
       " (13, 362.9),\n",
       " (5, 346.82),\n",
       " (2, 341.36),\n",
       " (10, 308.52),\n",
       " (31, 268.13)]"
      ]
     },
     "execution_count": 26,
     "metadata": {},
     "output_type": "execute_result"
    }
   ],
   "source": [
    "sorted(output, key=lambda x: x[1], reverse=True)"
   ]
  },
  {
   "cell_type": "markdown",
   "metadata": {},
   "source": [
    "# The hardest grid"
   ]
  },
  {
   "cell_type": "code",
   "execution_count": 3,
   "metadata": {},
   "outputs": [],
   "source": [
    "grid = [\n",
    "  [9, 0, 0, 0, 8, 0, 0, 0, 5],\n",
    "  [0, 0, 0, 0, 0, 0, 0, 0, 6],\n",
    "  [0, 0, 0, 0, 0, 0, 0, 0, 7],\n",
    "  [0, 8, 0, 0, 0, 5, 0, 0, 4],\n",
    "  [0, 0, 0, 0, 0, 0, 0, 0, 0],\n",
    "  [1, 0, 0, 4, 0, 2, 3, 0, 0],\n",
    "  [0, 0, 0, 0, 0, 0, 0, 0, 0],\n",
    "  [0, 1, 3, 0, 0, 0, 0, 0, 2],\n",
    "  [2, 0, 0, 0, 0, 9, 0, 8, 3]\n",
    "]"
   ]
  },
  {
   "cell_type": "code",
   "execution_count": 4,
   "metadata": {},
   "outputs": [],
   "source": [
    "from src.Sudoku import Sudoku\n",
    "from src.SudokuAnalyzer import SudokuAnalyzer\n",
    "from src.SudokuScrambler import SudokuScrambler\n",
    "from src.SudokuSolver import SudokuSolver\n",
    "\n",
    "sudoku = Sudoku(grid)"
   ]
  },
  {
   "cell_type": "code",
   "execution_count": 5,
   "metadata": {},
   "outputs": [
    {
     "data": {
      "text/plain": [
       "(306, 19, 3.08)"
      ]
     },
     "execution_count": 5,
     "metadata": {},
     "output_type": "execute_result"
    }
   ],
   "source": [
    "analyzer = SudokuAnalyzer(sudoku)\n",
    "analyzer.get_sudoku_description()"
   ]
  },
  {
   "cell_type": "code",
   "execution_count": null,
   "metadata": {},
   "outputs": [],
   "source": []
  }
 ],
 "metadata": {
  "kernelspec": {
   "display_name": "Python 3",
   "language": "python",
   "name": "python3"
  },
  "language_info": {
   "codemirror_mode": {
    "name": "ipython",
    "version": 3
   },
   "file_extension": ".py",
   "mimetype": "text/x-python",
   "name": "python",
   "nbconvert_exporter": "python",
   "pygments_lexer": "ipython3",
   "version": "3.11.4"
  }
 },
 "nbformat": 4,
 "nbformat_minor": 2
}
