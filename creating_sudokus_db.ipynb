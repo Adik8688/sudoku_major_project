{
 "cells": [
  {
   "cell_type": "markdown",
   "metadata": {},
   "source": [
    "# This notebook is used for processing all valid grids produced by me and merging them into 1 file"
   ]
  },
  {
   "cell_type": "markdown",
   "metadata": {},
   "source": [
    "## Merge all relevant csvs into one df"
   ]
  },
  {
   "cell_type": "code",
   "execution_count": null,
   "metadata": {},
   "outputs": [],
   "source": [
    "import pandas as pd\n",
    "\n",
    "files = ['analysis_random_v3.csv', 'recursively_generated_grids.csv']\n",
    "df_list = []\n",
    "\n",
    "for filename in files:\n",
    "    df = pd.read_csv('csvs/' + filename, index_col=None, header=0, sep=\";\")\n",
    "    df_list.append(df)\n",
    "\n",
    "df = pd.concat(df_list, axis=0, ignore_index=True)"
   ]
  },
  {
   "cell_type": "markdown",
   "metadata": {},
   "source": [
    "## Take only valid grids"
   ]
  },
  {
   "cell_type": "code",
   "execution_count": null,
   "metadata": {},
   "outputs": [],
   "source": [
    "df['is_valid'] = df['number_of_steps_to_solve'] != -1\n",
    "df_valid = df[df['is_valid']]"
   ]
  },
  {
   "cell_type": "markdown",
   "metadata": {},
   "source": [
    "## Remove outliers"
   ]
  },
  {
   "cell_type": "code",
   "execution_count": null,
   "metadata": {},
   "outputs": [],
   "source": [
    "df_valid = df_valid.sort_values('number_of_steps_to_solve').iloc[10 : -10]\n",
    "df_valid = df_valid[df_valid['number_of_initial_values'] < 71]"
   ]
  },
  {
   "cell_type": "markdown",
   "metadata": {},
   "source": [
    "## Assign difficulty level normalized to 1-10 scale"
   ]
  },
  {
   "cell_type": "code",
   "execution_count": null,
   "metadata": {},
   "outputs": [],
   "source": [
    "from joblib import load\n",
    "\n",
    "model = load('sudoku_model.joblib')\n",
    "\n",
    "def predict_difficulty(predictors):\n",
    "    return model.predict([predictors])[0]"
   ]
  },
  {
   "cell_type": "code",
   "execution_count": null,
   "metadata": {},
   "outputs": [],
   "source": [
    "df_valid[\"difficulty_level\"] =  df_valid.apply(lambda x: predict_difficulty([x['sum_of_candidates'], x['number_of_initial_values'], x['initial_numbers_entropy']]), axis=1)\n",
    "max_value = df_valid[\"difficulty_level\"].max()\n",
    "min_value = df_valid[\"difficulty_level\"].min()\n",
    "\n",
    "# normalize to scale 1-10\n",
    "df_valid[\"difficulty_level\"] = 1 + ((df_valid[\"difficulty_level\"] - min_value) * 9 / (max_value - min_value))\n",
    "df_valid[\"difficulty_level\"] = round(df_valid[\"difficulty_level\"], 2)"
   ]
  },
  {
   "cell_type": "markdown",
   "metadata": {},
   "source": [
    "## Save to file"
   ]
  },
  {
   "cell_type": "code",
   "execution_count": null,
   "metadata": {},
   "outputs": [],
   "source": [
    "df_valid = df_valid.sort_values('difficulty_level')\n",
    "df_valid.to_csv(\"sudoku_db.csv\", sep=';', index=False)"
   ]
  },
  {
   "cell_type": "code",
   "execution_count": null,
   "metadata": {},
   "outputs": [],
   "source": []
  }
 ],
 "metadata": {
  "kernelspec": {
   "display_name": "Python 3",
   "language": "python",
   "name": "python3"
  },
  "language_info": {
   "codemirror_mode": {
    "name": "ipython",
    "version": 3
   },
   "file_extension": ".py",
   "mimetype": "text/x-python",
   "name": "python",
   "nbconvert_exporter": "python",
   "pygments_lexer": "ipython3",
   "version": "3.11.4"
  }
 },
 "nbformat": 4,
 "nbformat_minor": 2
}
