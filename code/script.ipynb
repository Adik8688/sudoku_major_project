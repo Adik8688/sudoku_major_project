{
 "cells": [
  {
   "cell_type": "code",
   "execution_count": 5,
   "metadata": {},
   "outputs": [
    {
     "data": {
      "text/plain": [
       "[['1', '2', '3'], ['4', '5', '6'], ['7', '8', '9']]"
      ]
     },
     "execution_count": 5,
     "metadata": {},
     "output_type": "execute_result"
    }
   ],
   "source": [
    "sudoku = \"\"\"123\n",
    "456\n",
    "789\"\"\"\n",
    "\n",
    "[list(i) for i in sudoku.strip().split('\\n')]"
   ]
  },
  {
   "cell_type": "code",
   "execution_count": 6,
   "metadata": {},
   "outputs": [],
   "source": [
    "def string_to_grid(values: str) -> list:\n",
    "        output = []\n",
    "        for row in values.strip().split():\n",
    "            new_row = [int(i) for i in list(row)]\n",
    "            output.append(new_row)\n",
    "        return output"
   ]
  },
  {
   "cell_type": "code",
   "execution_count": 7,
   "metadata": {},
   "outputs": [
    {
     "data": {
      "text/plain": [
       "[[1, 2, 3], [4, 5, 6], [7, 8, 9]]"
      ]
     },
     "execution_count": 7,
     "metadata": {},
     "output_type": "execute_result"
    }
   ],
   "source": [
    "string_to_grid(sudoku)"
   ]
  },
  {
   "cell_type": "code",
   "execution_count": 10,
   "metadata": {},
   "outputs": [],
   "source": [
    "from Sudoku import Sudoku\n",
    "from SudokuSolver import SudokuSolver\n",
    "\n",
    "grid = \"\"\"700036040\n",
    "        040100070\n",
    "        300000100\n",
    "        530000000\n",
    "        209640000\n",
    "        060970080\n",
    "        020704005\n",
    "        000008004\n",
    "        054069001\"\"\"\n",
    "\n",
    "sudoku = Sudoku(grid)\n",
    "solver = SudokuSolver(sudoku)\n"
   ]
  },
  {
   "cell_type": "code",
   "execution_count": 12,
   "metadata": {},
   "outputs": [
    {
     "data": {
      "text/plain": [
       "[[[-1],\n",
       "  [1, 8, 9],\n",
       "  [1, 2, 5, 8],\n",
       "  [2, 5, 8],\n",
       "  [-1],\n",
       "  [-1],\n",
       "  [2, 5, 8, 9],\n",
       "  [-1],\n",
       "  [2, 8, 9]],\n",
       " [[6, 8, 9],\n",
       "  [-1],\n",
       "  [2, 5, 6, 8],\n",
       "  [-1],\n",
       "  [2, 5, 8, 9],\n",
       "  [2, 3, 5],\n",
       "  [2, 5, 6, 8, 9],\n",
       "  [-1],\n",
       "  [2, 6, 8, 9]],\n",
       " [[-1],\n",
       "  [8, 9],\n",
       "  [2, 5, 6, 8],\n",
       "  [2, 5, 8],\n",
       "  [2, 5, 8, 9],\n",
       "  [2, 5, 7],\n",
       "  [-1],\n",
       "  [2, 5, 6, 9],\n",
       "  [2, 6, 7, 8, 9]],\n",
       " [[-1],\n",
       "  [-1],\n",
       "  [1, 2, 6, 7, 8],\n",
       "  [2, 8],\n",
       "  [2, 8, 9],\n",
       "  [2, 7],\n",
       "  [2, 4, 6, 7, 8, 9],\n",
       "  [2, 6, 9],\n",
       "  [2, 6, 7, 8, 9]],\n",
       " [[-1], [1, 7, 8], [-1], [-1], [-1], [5, 7], [3, 5, 7, 8], [3, 5], [3, 7, 8]],\n",
       " [[1], [-1], [1, 2], [-1], [-1], [2, 5], [2, 3, 4, 5], [-1], [2, 3]],\n",
       " [[1, 6, 8], [-1], [1, 6, 8], [-1], [1, 8], [-1], [3, 8], [1, 3], [-1]],\n",
       " [[1, 6],\n",
       "  [1, 7],\n",
       "  [1, 6, 7],\n",
       "  [2, 5],\n",
       "  [1, 2, 5],\n",
       "  [-1],\n",
       "  [2, 3, 5, 7],\n",
       "  [1, 2, 3, 5],\n",
       "  [-1]],\n",
       " [[8], [-1], [-1], [2, 8], [-1], [-1], [2, 3, 7, 8], [2, 3], [-1]]]"
      ]
     },
     "execution_count": 12,
     "metadata": {},
     "output_type": "execute_result"
    }
   ],
   "source": [
    "solver.get_grid_of_possibilities()"
   ]
  },
  {
   "cell_type": "code",
   "execution_count": null,
   "metadata": {},
   "outputs": [],
   "source": []
  }
 ],
 "metadata": {
  "kernelspec": {
   "display_name": "Python 3",
   "language": "python",
   "name": "python3"
  },
  "language_info": {
   "codemirror_mode": {
    "name": "ipython",
    "version": 3
   },
   "file_extension": ".py",
   "mimetype": "text/x-python",
   "name": "python",
   "nbconvert_exporter": "python",
   "pygments_lexer": "ipython3",
   "version": "3.11.4"
  }
 },
 "nbformat": 4,
 "nbformat_minor": 2
}
