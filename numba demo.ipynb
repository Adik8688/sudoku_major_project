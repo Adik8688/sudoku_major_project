{
 "cells": [
  {
   "cell_type": "markdown",
   "metadata": {},
   "source": [
    "# Numba"
   ]
  },
  {
   "cell_type": "code",
   "execution_count": 1,
   "metadata": {},
   "outputs": [],
   "source": [
    "from src.Sudoku import Sudoku\n",
    "import numpy as np\n",
    "\n",
    "\n",
    "grid1 = \"\"\"000801000\n",
    "    000000043\n",
    "    500000000\n",
    "    000070800\n",
    "    000000100\n",
    "    020030000\n",
    "    600000075\n",
    "    003400000\n",
    "    000200600\"\"\"\n",
    "\n",
    "sudoku = Sudoku(grid1)\n"
   ]
  },
  {
   "cell_type": "code",
   "execution_count": 2,
   "metadata": {},
   "outputs": [],
   "source": [
    "from numba import jit, prange\n",
    "\n",
    "def calculate_candidates(sudoku):\n",
    "\n",
    "    candidates = np.zeros([9, 9]) \n",
    "\n",
    "    for y in range(9):\n",
    "        for x in range(9):\n",
    "            if sudoku.get_cell(x, y) != 0:\n",
    "                candidates[y][x] = 0\n",
    "                continue\n",
    "\n",
    "            row = sudoku.get_row(y)\n",
    "            col = sudoku.get_col(x)\n",
    "            sq_index = x // 3 + 3 * (y // 3)\n",
    "            sq = sudoku.get_square(sq_index)\n",
    "            invalid_numbers = np.concatenate((row, col, sq.flatten()))\n",
    "            valid_numbers = np.setdiff1d(np.arange(1, 10), invalid_numbers)\n",
    "            candidates[y][x] = len(valid_numbers)\n",
    "\n",
    "    return candidates\n",
    "\n",
    "\n",
    "@jit(nopython=True)\n",
    "def custom_setdiff1d(ar1, ar2):\n",
    "    result = []\n",
    "    \n",
    "    ar2_set = set(ar2)\n",
    "    \n",
    "    for item in ar1:\n",
    "        if item not in ar2_set:\n",
    "            result.append(item)\n",
    "    \n",
    "    return np.array(result)\n",
    "\n",
    "@jit(nopython=True, parallel=True)\n",
    "def calculate_candidates_2(grid: np.array):\n",
    "\n",
    "    candidates = np.zeros((9, 9, 9), dtype=np.bool_)\n",
    "\n",
    "    for y in prange(9):\n",
    "        for x in prange(9):\n",
    "            if grid[y, x] != 0:\n",
    "                continue\n",
    "\n",
    "            row = grid[y, :]\n",
    "            col = grid[:, x]\n",
    "            y0 = (y // 3) * 3\n",
    "            x0 = (x // 3) * 3\n",
    "            sq = grid[y0 : y0 + 3, x0 : x0 + 3]\n",
    "            invalid_numbers = np.concatenate((row, col, sq.flatten()))\n",
    "            valid_numbers = custom_setdiff1d(np.arange(1, 10), invalid_numbers)\n",
    "            candidates[y, x, valid_numbers - 1] = 1\n",
    "\n",
    "    return candidates\n"
   ]
  },
  {
   "cell_type": "code",
   "execution_count": 8,
   "metadata": {},
   "outputs": [
    {
     "name": "stdout",
     "output_type": "stream",
     "text": [
      "Time: 14.544921398162842\n"
     ]
    }
   ],
   "source": [
    "import time\n",
    "\n",
    "start_time = time.time()\n",
    "\n",
    "for _ in range(100000):\n",
    "    c = calculate_candidates_2(sudoku.grid)\n",
    "\n",
    "end_time = time.time()\n",
    "\n",
    "print(f\"Time: {end_time - start_time}\")\n"
   ]
  },
  {
   "cell_type": "code",
   "execution_count": 10,
   "metadata": {},
   "outputs": [],
   "source": [
    "def decode_candidates(c):\n",
    "    candidates = []\n",
    "    for row in c:\n",
    "        new_row = []\n",
    "        for elem in row:\n",
    "            new_row.append([i + 1 for i, e in enumerate(elem) if e])\n",
    "        candidates.append(new_row)\n",
    "    \n",
    "    return candidates"
   ]
  },
  {
   "cell_type": "code",
   "execution_count": 14,
   "metadata": {},
   "outputs": [
    {
     "name": "stdout",
     "output_type": "stream",
     "text": [
      "- - - 8 - 1 - - - \n",
      "- - - - - - - 4 3 \n",
      "5 - - - - - - - - \n",
      "- - - - 7 - 8 - - \n",
      "- - - - - - 1 - - \n",
      "- 2 - - 3 - - - - \n",
      "6 - - - - - - 7 5 \n",
      "- - 3 4 - - - - - \n",
      "- - - 2 - - 6 - - \n",
      "\n"
     ]
    }
   ],
   "source": [
    "print(sudoku)"
   ]
  },
  {
   "cell_type": "code",
   "execution_count": 15,
   "metadata": {},
   "outputs": [
    {
     "name": "stdout",
     "output_type": "stream",
     "text": [
      "23479 34679 24679 -1 24569 -1 2579 2569 2679 \n",
      "12789 16789 126789 5679 2569 25679 2579 -1 -1 \n",
      "-1 1346789 1246789 3679 2469 234679 279 12689 126789 \n",
      "1349 134569 14569 1569 -1 24569 -1 23569 2469 \n",
      "34789 3456789 456789 569 245689 245689 -1 23569 24679 \n",
      "14789 -1 1456789 1569 -1 45689 4579 569 4679 \n",
      "-1 1489 12489 139 189 389 2349 -1 -1 \n",
      "12789 15789 -1 -1 15689 56789 29 1289 1289 \n",
      "14789 145789 145789 -1 1589 35789 -1 1389 1489 \n"
     ]
    }
   ],
   "source": [
    "grid_of_candidates = decode_candidates(c)\n",
    "for row in grid_of_candidates:\n",
    "    for cell in row:\n",
    "        if cell:\n",
    "            print(\"\".join([str(i) for i in cell]), end=\" \")\n",
    "        else:\n",
    "            print(\"-1\", end=\" \")\n",
    "    print()\n"
   ]
  }
 ],
 "metadata": {
  "kernelspec": {
   "display_name": "Python 3",
   "language": "python",
   "name": "python3"
  },
  "language_info": {
   "codemirror_mode": {
    "name": "ipython",
    "version": 3
   },
   "file_extension": ".py",
   "mimetype": "text/x-python",
   "name": "python",
   "nbconvert_exporter": "python",
   "pygments_lexer": "ipython3",
   "version": "3.11.4"
  }
 },
 "nbformat": 4,
 "nbformat_minor": 2
}
